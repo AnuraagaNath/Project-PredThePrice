{
 "cells": [
  {
   "cell_type": "markdown",
   "metadata": {},
   "source": [
    "# Image Classification Model Development"
   ]
  },
  {
   "cell_type": "code",
   "execution_count": 1,
   "metadata": {},
   "outputs": [],
   "source": [
    "import pandas as pd \n",
    "from glob import glob\n",
    "from sklearn.linear_model import LogisticRegression, Perceptron\n",
    "from lazypredict.Supervised import LazyClassifier\n",
    "from sklearn.model_selection import train_test_split, GridSearchCV\n",
    "from PIL import Image\n",
    "import numpy as np\n",
    "from sklearn.metrics import accuracy_score, confusion_matrix, classification_report, ConfusionMatrixDisplay\n",
    "import matplotlib.pyplot as plt\n",
    "from lightgbm import LGBMClassifier\n",
    "from sklearn.decomposition import PCA\n",
    "from sklearn.ensemble import RandomForestClassifier"
   ]
  },
  {
   "cell_type": "code",
   "execution_count": 2,
   "metadata": {},
   "outputs": [
    {
     "data": {
      "text/plain": [
       "['/home/anuraaga/Documents/Projects/Project-PredthePrice/train_image/test_image/SUV',\n",
       " '/home/anuraaga/Documents/Projects/Project-PredthePrice/train_image/test_image/Hatchback',\n",
       " '/home/anuraaga/Documents/Projects/Project-PredthePrice/train_image/test_image/Seden',\n",
       " '/home/anuraaga/Documents/Projects/Project-PredthePrice/train_image/test_image/Pickup']"
      ]
     },
     "execution_count": 2,
     "metadata": {},
     "output_type": "execute_result"
    }
   ],
   "source": [
    "columns = [f'pixel_{i}' for i in range(1296)]\n",
    "columns.append('label')\n",
    "df = pd.DataFrame(columns=columns)\n",
    "\n",
    "car_folders = glob('/home/anuraaga/Documents/Projects/Project-PredthePrice/train_image/test_image/*')\n",
    "car_folders"
   ]
  },
  {
   "cell_type": "code",
   "execution_count": null,
   "metadata": {},
   "outputs": [],
   "source": [
    "for folder in car_folders:\n",
    "    car_images = glob(folder+'/*.jpg')\n",
    "    for img in car_images:\n",
    "        image = Image\\\n",
    "            .open(img)\\\n",
    "            .convert(\"L\")\\\n",
    "            .resize((36,36), Image.ADAPTIVE)\n",
    "        pixel_values = np.array(image).reshape(-1)\n",
    "        normalized_pixel_values = pixel_values / 255\n",
    "        row_data = np.concatenate([normalized_pixel_values, [folder.split('/')[-1]]])\n",
    "        ndf = pd.DataFrame([row_data], columns=columns)\n",
    "        df = pd.concat([df, ndf], ignore_index=True)   "
   ]
  },
  {
   "cell_type": "code",
   "execution_count": null,
   "metadata": {},
   "outputs": [],
   "source": [
    "for c in columns[:-1]:\n",
    "    df[c] = df[c].astype('float64')\n",
    "df['label'] = df['label'].astype(str)"
   ]
  },
  {
   "cell_type": "code",
   "execution_count": null,
   "metadata": {},
   "outputs": [],
   "source": [
    "df.head()"
   ]
  },
  {
   "cell_type": "code",
   "execution_count": null,
   "metadata": {},
   "outputs": [],
   "source": [
    "df.info()"
   ]
  },
  {
   "cell_type": "code",
   "execution_count": null,
   "metadata": {},
   "outputs": [],
   "source": [
    "df.to_parquet('new_image_dataset_36pixels.parquet', index=False, engine='fastparquet')"
   ]
  },
  {
   "cell_type": "markdown",
   "metadata": {},
   "source": [
    "Run from here "
   ]
  },
  {
   "cell_type": "code",
   "execution_count": 2,
   "metadata": {},
   "outputs": [],
   "source": [
    "df = pd.read_parquet('new_image_dataset_36pixels.parquet')"
   ]
  },
  {
   "cell_type": "code",
   "execution_count": 3,
   "metadata": {},
   "outputs": [
    {
     "data": {
      "text/html": [
       "<div>\n",
       "<style scoped>\n",
       "    .dataframe tbody tr th:only-of-type {\n",
       "        vertical-align: middle;\n",
       "    }\n",
       "\n",
       "    .dataframe tbody tr th {\n",
       "        vertical-align: top;\n",
       "    }\n",
       "\n",
       "    .dataframe thead th {\n",
       "        text-align: right;\n",
       "    }\n",
       "</style>\n",
       "<table border=\"1\" class=\"dataframe\">\n",
       "  <thead>\n",
       "    <tr style=\"text-align: right;\">\n",
       "      <th></th>\n",
       "      <th>pixel_0</th>\n",
       "      <th>pixel_1</th>\n",
       "      <th>pixel_2</th>\n",
       "      <th>pixel_3</th>\n",
       "      <th>pixel_4</th>\n",
       "      <th>pixel_5</th>\n",
       "      <th>pixel_6</th>\n",
       "      <th>pixel_7</th>\n",
       "      <th>pixel_8</th>\n",
       "      <th>pixel_9</th>\n",
       "      <th>...</th>\n",
       "      <th>pixel_1287</th>\n",
       "      <th>pixel_1288</th>\n",
       "      <th>pixel_1289</th>\n",
       "      <th>pixel_1290</th>\n",
       "      <th>pixel_1291</th>\n",
       "      <th>pixel_1292</th>\n",
       "      <th>pixel_1293</th>\n",
       "      <th>pixel_1294</th>\n",
       "      <th>pixel_1295</th>\n",
       "      <th>label</th>\n",
       "    </tr>\n",
       "  </thead>\n",
       "  <tbody>\n",
       "    <tr>\n",
       "      <th>0</th>\n",
       "      <td>0.73</td>\n",
       "      <td>0.72</td>\n",
       "      <td>0.66</td>\n",
       "      <td>0.60</td>\n",
       "      <td>0.57</td>\n",
       "      <td>0.56</td>\n",
       "      <td>0.33</td>\n",
       "      <td>0.57</td>\n",
       "      <td>0.71</td>\n",
       "      <td>0.21</td>\n",
       "      <td>...</td>\n",
       "      <td>0.24</td>\n",
       "      <td>0.26</td>\n",
       "      <td>0.26</td>\n",
       "      <td>0.29</td>\n",
       "      <td>0.33</td>\n",
       "      <td>0.36</td>\n",
       "      <td>0.42</td>\n",
       "      <td>0.45</td>\n",
       "      <td>0.49</td>\n",
       "      <td>SUV</td>\n",
       "    </tr>\n",
       "    <tr>\n",
       "      <th>1</th>\n",
       "      <td>0.65</td>\n",
       "      <td>0.67</td>\n",
       "      <td>0.62</td>\n",
       "      <td>0.62</td>\n",
       "      <td>0.64</td>\n",
       "      <td>0.62</td>\n",
       "      <td>0.60</td>\n",
       "      <td>0.59</td>\n",
       "      <td>0.63</td>\n",
       "      <td>0.67</td>\n",
       "      <td>...</td>\n",
       "      <td>0.14</td>\n",
       "      <td>0.16</td>\n",
       "      <td>0.18</td>\n",
       "      <td>0.23</td>\n",
       "      <td>0.28</td>\n",
       "      <td>0.32</td>\n",
       "      <td>0.37</td>\n",
       "      <td>0.42</td>\n",
       "      <td>0.44</td>\n",
       "      <td>SUV</td>\n",
       "    </tr>\n",
       "    <tr>\n",
       "      <th>2</th>\n",
       "      <td>0.59</td>\n",
       "      <td>0.54</td>\n",
       "      <td>0.38</td>\n",
       "      <td>0.25</td>\n",
       "      <td>0.26</td>\n",
       "      <td>0.26</td>\n",
       "      <td>0.34</td>\n",
       "      <td>0.59</td>\n",
       "      <td>0.52</td>\n",
       "      <td>0.57</td>\n",
       "      <td>...</td>\n",
       "      <td>0.12</td>\n",
       "      <td>0.13</td>\n",
       "      <td>0.13</td>\n",
       "      <td>0.18</td>\n",
       "      <td>0.21</td>\n",
       "      <td>0.27</td>\n",
       "      <td>0.39</td>\n",
       "      <td>0.57</td>\n",
       "      <td>0.62</td>\n",
       "      <td>SUV</td>\n",
       "    </tr>\n",
       "    <tr>\n",
       "      <th>3</th>\n",
       "      <td>0.98</td>\n",
       "      <td>0.98</td>\n",
       "      <td>0.85</td>\n",
       "      <td>0.72</td>\n",
       "      <td>0.59</td>\n",
       "      <td>0.51</td>\n",
       "      <td>0.61</td>\n",
       "      <td>0.78</td>\n",
       "      <td>0.78</td>\n",
       "      <td>0.83</td>\n",
       "      <td>...</td>\n",
       "      <td>0.16</td>\n",
       "      <td>0.19</td>\n",
       "      <td>0.17</td>\n",
       "      <td>0.18</td>\n",
       "      <td>0.23</td>\n",
       "      <td>0.29</td>\n",
       "      <td>0.36</td>\n",
       "      <td>0.41</td>\n",
       "      <td>0.44</td>\n",
       "      <td>SUV</td>\n",
       "    </tr>\n",
       "    <tr>\n",
       "      <th>4</th>\n",
       "      <td>0.36</td>\n",
       "      <td>0.27</td>\n",
       "      <td>0.25</td>\n",
       "      <td>0.24</td>\n",
       "      <td>0.25</td>\n",
       "      <td>0.28</td>\n",
       "      <td>0.25</td>\n",
       "      <td>0.32</td>\n",
       "      <td>0.47</td>\n",
       "      <td>0.47</td>\n",
       "      <td>...</td>\n",
       "      <td>0.14</td>\n",
       "      <td>0.11</td>\n",
       "      <td>0.12</td>\n",
       "      <td>0.14</td>\n",
       "      <td>0.16</td>\n",
       "      <td>0.22</td>\n",
       "      <td>0.46</td>\n",
       "      <td>0.52</td>\n",
       "      <td>0.52</td>\n",
       "      <td>SUV</td>\n",
       "    </tr>\n",
       "  </tbody>\n",
       "</table>\n",
       "<p>5 rows × 1297 columns</p>\n",
       "</div>"
      ],
      "text/plain": [
       "   pixel_0  pixel_1  pixel_2  pixel_3  pixel_4  pixel_5  pixel_6  pixel_7  \\\n",
       "0     0.73     0.72     0.66     0.60     0.57     0.56     0.33     0.57   \n",
       "1     0.65     0.67     0.62     0.62     0.64     0.62     0.60     0.59   \n",
       "2     0.59     0.54     0.38     0.25     0.26     0.26     0.34     0.59   \n",
       "3     0.98     0.98     0.85     0.72     0.59     0.51     0.61     0.78   \n",
       "4     0.36     0.27     0.25     0.24     0.25     0.28     0.25     0.32   \n",
       "\n",
       "   pixel_8  pixel_9  ...  pixel_1287  pixel_1288  pixel_1289  pixel_1290  \\\n",
       "0     0.71     0.21  ...        0.24        0.26        0.26        0.29   \n",
       "1     0.63     0.67  ...        0.14        0.16        0.18        0.23   \n",
       "2     0.52     0.57  ...        0.12        0.13        0.13        0.18   \n",
       "3     0.78     0.83  ...        0.16        0.19        0.17        0.18   \n",
       "4     0.47     0.47  ...        0.14        0.11        0.12        0.14   \n",
       "\n",
       "   pixel_1291  pixel_1292  pixel_1293  pixel_1294  pixel_1295  label  \n",
       "0        0.33        0.36        0.42        0.45        0.49    SUV  \n",
       "1        0.28        0.32        0.37        0.42        0.44    SUV  \n",
       "2        0.21        0.27        0.39        0.57        0.62    SUV  \n",
       "3        0.23        0.29        0.36        0.41        0.44    SUV  \n",
       "4        0.16        0.22        0.46        0.52        0.52    SUV  \n",
       "\n",
       "[5 rows x 1297 columns]"
      ]
     },
     "execution_count": 3,
     "metadata": {},
     "output_type": "execute_result"
    }
   ],
   "source": [
    "df.head()"
   ]
  },
  {
   "cell_type": "code",
   "execution_count": 4,
   "metadata": {},
   "outputs": [
    {
     "data": {
      "text/html": [
       "<div>\n",
       "<style scoped>\n",
       "    .dataframe tbody tr th:only-of-type {\n",
       "        vertical-align: middle;\n",
       "    }\n",
       "\n",
       "    .dataframe tbody tr th {\n",
       "        vertical-align: top;\n",
       "    }\n",
       "\n",
       "    .dataframe thead th {\n",
       "        text-align: right;\n",
       "    }\n",
       "</style>\n",
       "<table border=\"1\" class=\"dataframe\">\n",
       "  <thead>\n",
       "    <tr style=\"text-align: right;\">\n",
       "      <th></th>\n",
       "      <th>Model</th>\n",
       "      <th>Accuracy</th>\n",
       "      <th>Balanced Accuracy</th>\n",
       "      <th>ROC AUC</th>\n",
       "      <th>F1 Score</th>\n",
       "      <th>Time Taken</th>\n",
       "    </tr>\n",
       "  </thead>\n",
       "  <tbody>\n",
       "    <tr>\n",
       "      <th>0</th>\n",
       "      <td>RandomForestClassifier</td>\n",
       "      <td>0.99</td>\n",
       "      <td>0.98</td>\n",
       "      <td>NaN</td>\n",
       "      <td>0.99</td>\n",
       "      <td>3.56</td>\n",
       "    </tr>\n",
       "    <tr>\n",
       "      <th>1</th>\n",
       "      <td>SVC</td>\n",
       "      <td>0.99</td>\n",
       "      <td>0.98</td>\n",
       "      <td>NaN</td>\n",
       "      <td>0.99</td>\n",
       "      <td>3.75</td>\n",
       "    </tr>\n",
       "    <tr>\n",
       "      <th>2</th>\n",
       "      <td>XGBClassifier</td>\n",
       "      <td>0.99</td>\n",
       "      <td>0.98</td>\n",
       "      <td>NaN</td>\n",
       "      <td>0.99</td>\n",
       "      <td>26.10</td>\n",
       "    </tr>\n",
       "    <tr>\n",
       "      <th>3</th>\n",
       "      <td>ExtraTreesClassifier</td>\n",
       "      <td>0.98</td>\n",
       "      <td>0.98</td>\n",
       "      <td>NaN</td>\n",
       "      <td>0.98</td>\n",
       "      <td>1.10</td>\n",
       "    </tr>\n",
       "    <tr>\n",
       "      <th>4</th>\n",
       "      <td>LGBMClassifier</td>\n",
       "      <td>0.98</td>\n",
       "      <td>0.98</td>\n",
       "      <td>NaN</td>\n",
       "      <td>0.98</td>\n",
       "      <td>23.72</td>\n",
       "    </tr>\n",
       "  </tbody>\n",
       "</table>\n",
       "</div>"
      ],
      "text/plain": [
       "                    Model  Accuracy  Balanced Accuracy  ROC AUC  F1 Score  \\\n",
       "0  RandomForestClassifier      0.99               0.98      NaN      0.99   \n",
       "1                     SVC      0.99               0.98      NaN      0.99   \n",
       "2           XGBClassifier      0.99               0.98      NaN      0.99   \n",
       "3    ExtraTreesClassifier      0.98               0.98      NaN      0.98   \n",
       "4          LGBMClassifier      0.98               0.98      NaN      0.98   \n",
       "\n",
       "   Time Taken  \n",
       "0        3.56  \n",
       "1        3.75  \n",
       "2       26.10  \n",
       "3        1.10  \n",
       "4       23.72  "
      ]
     },
     "execution_count": 4,
     "metadata": {},
     "output_type": "execute_result"
    }
   ],
   "source": [
    "models = pd.read_csv('newmodels_choice.csv') # used lazypredict to choice the preferred model \n",
    "models.head()"
   ]
  },
  {
   "cell_type": "code",
   "execution_count": 5,
   "metadata": {},
   "outputs": [
    {
     "data": {
      "text/plain": [
       "label\n",
       "Pickup       1689\n",
       "Seden        1222\n",
       "SUV           680\n",
       "Hatchback     602\n",
       "Name: count, dtype: int64"
      ]
     },
     "execution_count": 5,
     "metadata": {},
     "output_type": "execute_result"
    }
   ],
   "source": [
    "df['label'].value_counts()"
   ]
  },
  {
   "cell_type": "markdown",
   "metadata": {},
   "source": [
    "data is pretty imbalanced so we need oversampling"
   ]
  },
  {
   "cell_type": "code",
   "execution_count": 6,
   "metadata": {},
   "outputs": [],
   "source": [
    "X = df.drop('label', axis=1)\n",
    "y = df['label']"
   ]
  },
  {
   "cell_type": "code",
   "execution_count": 7,
   "metadata": {},
   "outputs": [
    {
     "data": {
      "text/plain": [
       "<Axes: xlabel='label', ylabel='Count'>"
      ]
     },
     "execution_count": 7,
     "metadata": {},
     "output_type": "execute_result"
    },
    {
     "data": {
      "image/png": "[encoded data removed]",
      "text/plain": [
       "<Figure size 640x480 with 1 Axes>"
      ]
     },
     "metadata": {},
     "output_type": "display_data"
    }
   ],
   "source": [
    "import seaborn as sns\n",
    "sns.histplot(y)"
   ]
  },
  {
   "cell_type": "code",
   "execution_count": 8,
   "metadata": {},
   "outputs": [],
   "source": [
    "from imblearn.over_sampling import RandomOverSampler\n",
    "roversamp = RandomOverSampler()\n",
    "newX, newY = roversamp.fit_resample(X, y)"
   ]
  },
  {
   "cell_type": "code",
   "execution_count": 9,
   "metadata": {},
   "outputs": [
    {
     "data": {
      "text/plain": [
       "label\n",
       "SUV          1689\n",
       "Hatchback    1689\n",
       "Seden        1689\n",
       "Pickup       1689\n",
       "Name: count, dtype: int64"
      ]
     },
     "execution_count": 9,
     "metadata": {},
     "output_type": "execute_result"
    }
   ],
   "source": [
    "newY.value_counts()"
   ]
  },
  {
   "cell_type": "code",
   "execution_count": 10,
   "metadata": {},
   "outputs": [
    {
     "data": {
      "image/png": "[encoded data removed]",
      "text/plain": [
       "<Figure size 640x480 with 1 Axes>"
      ]
     },
     "metadata": {},
     "output_type": "display_data"
    }
   ],
   "source": [
    "import seaborn as sns\n",
    "sns.histplot(newY);"
   ]
  },
  {
   "cell_type": "code",
   "execution_count": 11,
   "metadata": {},
   "outputs": [
    {
     "data": {
      "text/plain": [
       "label\n",
       "3    1689\n",
       "0    1689\n",
       "2    1689\n",
       "1    1689\n",
       "Name: count, dtype: int64"
      ]
     },
     "execution_count": 11,
     "metadata": {},
     "output_type": "execute_result"
    }
   ],
   "source": [
    "newY = newY.replace({'Hatchback':0, 'Pickup':1, 'Seden':2, 'SUV':3})\n",
    "newY.value_counts()"
   ]
  },
  {
   "cell_type": "code",
   "execution_count": 12,
   "metadata": {},
   "outputs": [],
   "source": [
    "nX_train, nX_test, ny_train, ny_test = train_test_split(newX, newY, test_size=0.3, random_state=42)"
   ]
  },
  {
   "cell_type": "code",
   "execution_count": 13,
   "metadata": {},
   "outputs": [],
   "source": [
    "from sklearn.svm import SVC\n",
    "clf = SVC(decision_function_shape='ovo', probability=True)\n",
    "clf.fit(nX_train, ny_train)\n",
    "ny_pred = clf.predict(nX_test)"
   ]
  },
  {
   "cell_type": "code",
   "execution_count": 14,
   "metadata": {},
   "outputs": [
    {
     "name": "stdout",
     "output_type": "stream",
     "text": [
      "Training Accuracy: 99.94%\n",
      "Testing Accuracy: 99.80%\n"
     ]
    }
   ],
   "source": [
    "print(f'Training Accuracy: {clf.score(nX_train, ny_train)*100:.2f}%')\n",
    "print(f'Testing Accuracy: {clf.score(nX_test, ny_test)*100:.2f}%')"
   ]
  },
  {
   "cell_type": "code",
   "execution_count": 15,
   "metadata": {},
   "outputs": [
    {
     "data": {
      "text/plain": [
       "<sklearn.metrics._plot.confusion_matrix.ConfusionMatrixDisplay at 0x7f478981c1d0>"
      ]
     },
     "execution_count": 15,
     "metadata": {},
     "output_type": "execute_result"
    },
    {
     "data": {
      "image/png": "[encoded data removed]",
      "text/plain": [
       "<Figure size 640x480 with 2 Axes>"
      ]
     },
     "metadata": {},
     "output_type": "display_data"
    }
   ],
   "source": [
    "ConfusionMatrixDisplay(confusion_matrix(ny_test, ny_pred)).plot()"
   ]
  },
  {
   "cell_type": "code",
   "execution_count": null,
   "metadata": {},
   "outputs": [],
   "source": [
    "print(classification_report(ny_test, ny_pred))"
   ]
  },
  {
   "cell_type": "code",
   "execution_count": null,
   "metadata": {},
   "outputs": [],
   "source": [
    "# save model\n",
    "import skops.io as sio \n",
    "sio.dump(clf, 'car_detection_model_svc_balanced.skops')"
   ]
  },
  {
   "cell_type": "markdown",
   "metadata": {},
   "source": [
    "testing images"
   ]
  },
  {
   "cell_type": "code",
   "execution_count": null,
   "metadata": {},
   "outputs": [],
   "source": [
    "imagepath = 'test_image/Hatchback/PHOTO_342.jpg'\n",
    "image = Image.open(imagepath).convert(\"L\")\n",
    "resized_image = image.resize((36,36), Image.ADAPTIVE)\n",
    "pixel_values = np.array(resized_image)\n",
    "plt.imshow(pixel_values, cmap='gray')"
   ]
  },
  {
   "cell_type": "code",
   "execution_count": null,
   "metadata": {},
   "outputs": [],
   "source": [
    "columns = [f'pixel_{i}' for i in range(1296)]"
   ]
  },
  {
   "cell_type": "code",
   "execution_count": null,
   "metadata": {},
   "outputs": [],
   "source": [
    "normalized_pixel_values = (pixel_values).reshape(-1) / 255\n",
    "len(normalized_pixel_values)"
   ]
  },
  {
   "cell_type": "code",
   "execution_count": null,
   "metadata": {},
   "outputs": [],
   "source": [
    "ndf = pd.DataFrame([normalized_pixel_values], columns=columns)"
   ]
  },
  {
   "cell_type": "markdown",
   "metadata": {},
   "source": [
    "'Hatchback':0, 'Pickup':1, 'Seden':2, 'SUV':3"
   ]
  },
  {
   "cell_type": "code",
   "execution_count": null,
   "metadata": {},
   "outputs": [],
   "source": [
    "clf.predict(ndf)"
   ]
  },
  {
   "cell_type": "code",
   "execution_count": null,
   "metadata": {},
   "outputs": [],
   "source": [
    "imagepath = 'test_image/Pickup/PHOTO_342.jpg'\n",
    "image = Image.open(imagepath).convert(\"L\")\n",
    "resized_image = image.resize((36,36), Image.ADAPTIVE)\n",
    "pixel_values = np.array(resized_image)\n",
    "plt.imshow(pixel_values, cmap='gray')"
   ]
  },
  {
   "cell_type": "code",
   "execution_count": null,
   "metadata": {},
   "outputs": [],
   "source": [
    "normalized_pixel_values = (pixel_values).reshape(-1) / 255\n",
    "ndf = pd.DataFrame([normalized_pixel_values], columns=columns)"
   ]
  },
  {
   "cell_type": "markdown",
   "metadata": {},
   "source": [
    "'Hatchback':0, 'Pickup':1, 'Seden':2, 'SUV':3"
   ]
  },
  {
   "cell_type": "code",
   "execution_count": null,
   "metadata": {},
   "outputs": [],
   "source": [
    "clf.predict(ndf)"
   ]
  },
  {
   "cell_type": "code",
   "execution_count": null,
   "metadata": {},
   "outputs": [],
   "source": [
    "imagepath = 'test_image/Seden/PHOTO_548.jpg'\n",
    "image = Image.open(imagepath).convert(\"L\")\n",
    "resized_image = image.resize((36,36), Image.ADAPTIVE)\n",
    "pixel_values = np.array(resized_image)\n",
    "plt.imshow(pixel_values, cmap='gray')"
   ]
  },
  {
   "cell_type": "code",
   "execution_count": null,
   "metadata": {},
   "outputs": [],
   "source": [
    "normalized_pixel_values = (pixel_values).reshape(-1) / 255\n",
    "ndf = pd.DataFrame([normalized_pixel_values], columns=columns)"
   ]
  },
  {
   "cell_type": "markdown",
   "metadata": {},
   "source": [
    "'Hatchback':0, 'Pickup':1, 'Seden':2, 'SUV':3"
   ]
  },
  {
   "cell_type": "code",
   "execution_count": null,
   "metadata": {},
   "outputs": [],
   "source": [
    "clf.predict(ndf)"
   ]
  },
  {
   "cell_type": "code",
   "execution_count": null,
   "metadata": {},
   "outputs": [],
   "source": [
    "imagepath = 'test_image/SUV/PHOTO_123.jpg'\n",
    "image = Image.open(imagepath).convert(\"L\")\n",
    "resized_image = image.resize((36,36), Image.ADAPTIVE)\n",
    "pixel_values = np.array(resized_image)\n",
    "plt.imshow(pixel_values, cmap='gray')"
   ]
  },
  {
   "cell_type": "code",
   "execution_count": null,
   "metadata": {},
   "outputs": [],
   "source": [
    "normalized_pixel_values = (pixel_values).reshape(-1) / 255\n",
    "ndf = pd.DataFrame([normalized_pixel_values], columns=columns)"
   ]
  },
  {
   "cell_type": "code",
   "execution_count": null,
   "metadata": {},
   "outputs": [],
   "source": [
    "clf.predict(ndf)"
   ]
  },
  {
   "cell_type": "code",
   "execution_count": null,
   "metadata": {},
   "outputs": [],
   "source": [
    "imagepath = 'checks/pickup.jpg'\n",
    "image = Image.open(imagepath).convert(\"L\")\n",
    "resized_image = image.resize((36,36), Image.ADAPTIVE)\n",
    "pixel_values = np.array(resized_image)\n",
    "plt.imshow(pixel_values, cmap='gray')"
   ]
  },
  {
   "cell_type": "code",
   "execution_count": null,
   "metadata": {},
   "outputs": [],
   "source": [
    "normalized_pixel_values = (pixel_values).reshape(-1) / 255\n",
    "ndf = pd.DataFrame([normalized_pixel_values], columns=columns)"
   ]
  },
  {
   "cell_type": "markdown",
   "metadata": {},
   "source": [
    "'Hatchback':0, 'Pickup':1, 'Seden':2, 'SUV':3"
   ]
  },
  {
   "cell_type": "code",
   "execution_count": null,
   "metadata": {},
   "outputs": [],
   "source": [
    "clf.predict(ndf)"
   ]
  },
  {
   "cell_type": "code",
   "execution_count": null,
   "metadata": {},
   "outputs": [],
   "source": [
    "imagepath = 'pickup2.jpg'\n",
    "image = Image.open(imagepath).convert(\"L\")\n",
    "resized_image = image.resize((36,36), Image.ADAPTIVE)\n",
    "pixel_values = np.array(resized_image)\n",
    "plt.imshow(pixel_values, cmap='gray')"
   ]
  },
  {
   "cell_type": "code",
   "execution_count": null,
   "metadata": {},
   "outputs": [],
   "source": [
    "normalized_pixel_values = (pixel_values).reshape(-1) / 255\n",
    "ndf = pd.DataFrame([normalized_pixel_values], columns=columns)"
   ]
  },
  {
   "cell_type": "markdown",
   "metadata": {},
   "source": [
    "'Hatchback':0, 'Pickup':1, 'Seden':2, 'SUV':3"
   ]
  },
  {
   "cell_type": "code",
   "execution_count": null,
   "metadata": {},
   "outputs": [],
   "source": [
    "clf.predict(ndf)"
   ]
  },
  {
   "cell_type": "code",
   "execution_count": null,
   "metadata": {},
   "outputs": [],
   "source": [
    "imagepath = 'checks/sedan.jpg'\n",
    "image = Image.open(imagepath).convert(\"L\")\n",
    "resized_image = image.resize((36,36), Image.ADAPTIVE)\n",
    "pixel_values = np.array(resized_image)\n",
    "plt.imshow(pixel_values, cmap='gray')"
   ]
  },
  {
   "cell_type": "code",
   "execution_count": null,
   "metadata": {},
   "outputs": [],
   "source": [
    "normalized_pixel_values = (pixel_values).reshape(-1) / 255\n",
    "ndf = pd.DataFrame([normalized_pixel_values], columns=columns)"
   ]
  },
  {
   "cell_type": "markdown",
   "metadata": {},
   "source": [
    "'Hatchback':0, 'Pickup':1, 'Seden':2, 'SUV':3"
   ]
  },
  {
   "cell_type": "code",
   "execution_count": null,
   "metadata": {},
   "outputs": [],
   "source": [
    "clf.predict(ndf)"
   ]
  },
  {
   "cell_type": "code",
   "execution_count": null,
   "metadata": {},
   "outputs": [],
   "source": [
    "imagepath = 'checks/sedan2.jpg'\n",
    "image = Image.open(imagepath).convert(\"L\")\n",
    "resized_image = image.resize((36,36), Image.ADAPTIVE)\n",
    "pixel_values = np.array(resized_image)\n",
    "plt.imshow(pixel_values, cmap='gray')"
   ]
  },
  {
   "cell_type": "code",
   "execution_count": null,
   "metadata": {},
   "outputs": [],
   "source": [
    "normalized_pixel_values = (pixel_values).reshape(-1) / 255\n",
    "ndf = pd.DataFrame([normalized_pixel_values], columns=columns)"
   ]
  },
  {
   "cell_type": "markdown",
   "metadata": {},
   "source": [
    "'Hatchback':0, 'Pickup':1, 'Seden':2, 'SUV':3"
   ]
  },
  {
   "cell_type": "code",
   "execution_count": null,
   "metadata": {},
   "outputs": [],
   "source": [
    "clf.predict(ndf)"
   ]
  },
  {
   "cell_type": "code",
   "execution_count": null,
   "metadata": {},
   "outputs": [],
   "source": [
    "imagepath = 'suv.jpg'\n",
    "image = Image.open(imagepath).convert(\"L\")\n",
    "resized_image = image.resize((36,36), Image.ADAPTIVE)\n",
    "pixel_values = np.array(resized_image)\n",
    "plt.imshow(pixel_values, cmap='gray')"
   ]
  },
  {
   "cell_type": "code",
   "execution_count": null,
   "metadata": {},
   "outputs": [],
   "source": [
    "normalized_pixel_values = (pixel_values).reshape(-1) / 255\n",
    "ndf = pd.DataFrame([normalized_pixel_values], columns=columns)"
   ]
  },
  {
   "cell_type": "markdown",
   "metadata": {},
   "source": [
    "'Hatchback':0, 'Pickup':1, 'Seden':2, 'SUV':3"
   ]
  },
  {
   "cell_type": "code",
   "execution_count": null,
   "metadata": {},
   "outputs": [],
   "source": [
    "clf.predict(ndf)"
   ]
  },
  {
   "cell_type": "code",
   "execution_count": null,
   "metadata": {},
   "outputs": [],
   "source": [
    "imagepath = 'unknown.jpg'\n",
    "image = Image.open(imagepath).convert(\"L\")\n",
    "resized_image = image.resize((36,36), Image.ADAPTIVE)\n",
    "pixel_values = np.array(resized_image)\n",
    "plt.imshow(pixel_values, cmap='gray')"
   ]
  },
  {
   "cell_type": "code",
   "execution_count": null,
   "metadata": {},
   "outputs": [],
   "source": [
    "normalized_pixel_values = (pixel_values).reshape(-1) / 255\n",
    "ndf = pd.DataFrame([normalized_pixel_values], columns=columns)"
   ]
  },
  {
   "cell_type": "markdown",
   "metadata": {},
   "source": [
    "'Hatchback':0, 'Pickup':1, 'Seden':2, 'SUV':3"
   ]
  },
  {
   "cell_type": "code",
   "execution_count": null,
   "metadata": {},
   "outputs": [],
   "source": [
    "clf.predict(ndf)"
   ]
  },
  {
   "cell_type": "code",
   "execution_count": null,
   "metadata": {},
   "outputs": [],
   "source": [
    "import skops.io as sio \n",
    "from PIL import Image\n",
    "import numpy as np \n",
    "import matplotlib.pyplot as plt \n",
    "import pandas as pd\n",
    "columns = [f'pixel_{i}' for i in range(1296)]\n",
    "clf = sio.load('/home/anuraaga/Documents/Projects/Project-PredthePrice/docker/models/car_detection_model_svc.skops', trusted=True)"
   ]
  },
  {
   "cell_type": "code",
   "execution_count": null,
   "metadata": {},
   "outputs": [],
   "source": [
    "imagepath = 'sedan3.jpg'\n",
    "image = Image.open(imagepath).convert(\"L\")\n",
    "resized_image = image.resize((36,36), Image.ADAPTIVE)\n",
    "pixel_values = np.array(resized_image)\n",
    "plt.imshow(pixel_values, cmap='gray')"
   ]
  },
  {
   "cell_type": "code",
   "execution_count": null,
   "metadata": {},
   "outputs": [],
   "source": [
    "normalized_pixel_values = (pixel_values).reshape(-1) / 255\n",
    "ndf = pd.DataFrame([normalized_pixel_values], columns=columns)"
   ]
  },
  {
   "cell_type": "markdown",
   "metadata": {},
   "source": [
    "'Hatchback':0, 'Pickup':1, 'Seden':2, 'SUV':3"
   ]
  },
  {
   "cell_type": "code",
   "execution_count": null,
   "metadata": {},
   "outputs": [],
   "source": [
    "clf.predict_proba(ndf)"
   ]
  },
  {
   "cell_type": "code",
   "execution_count": null,
   "metadata": {},
   "outputs": [],
   "source": [
    "imagepath = 'unknown2.jpg'\n",
    "image = Image.open(imagepath).convert(\"L\")\n",
    "resized_image = image.resize((36,36), Image.ADAPTIVE)\n",
    "pixel_values = np.array(resized_image)\n",
    "plt.imshow(pixel_values, cmap='gray')"
   ]
  },
  {
   "cell_type": "code",
   "execution_count": null,
   "metadata": {},
   "outputs": [],
   "source": [
    "normalized_pixel_values = (pixel_values).reshape(-1) / 255\n",
    "ndf = pd.DataFrame([normalized_pixel_values], columns=columns)"
   ]
  },
  {
   "cell_type": "markdown",
   "metadata": {},
   "source": [
    "'Hatchback':0, 'Pickup':1, 'Seden':2, 'SUV':3"
   ]
  },
  {
   "cell_type": "code",
   "execution_count": null,
   "metadata": {},
   "outputs": [],
   "source": [
    "clf.predict(ndf)"
   ]
  },
  {
   "cell_type": "code",
   "execution_count": null,
   "metadata": {},
   "outputs": [],
   "source": [
    "clf.predict_proba(ndf)"
   ]
  },
  {
   "cell_type": "code",
   "execution_count": null,
   "metadata": {},
   "outputs": [],
   "source": [
    "imagepath = 'unknown3.jpg'\n",
    "image = Image.open(imagepath).convert(\"L\")\n",
    "resized_image = image.resize((36,36), Image.ADAPTIVE)\n",
    "pixel_values = np.array(resized_image)\n",
    "plt.imshow(pixel_values, cmap='gray')"
   ]
  },
  {
   "cell_type": "code",
   "execution_count": null,
   "metadata": {},
   "outputs": [],
   "source": [
    "normalized_pixel_values = (pixel_values).reshape(-1) / 255\n",
    "ndf = pd.DataFrame([normalized_pixel_values], columns=columns)"
   ]
  },
  {
   "cell_type": "markdown",
   "metadata": {},
   "source": [
    "'Hatchback':0, 'Pickup':1, 'Seden':2, 'SUV':3"
   ]
  },
  {
   "cell_type": "code",
   "execution_count": null,
   "metadata": {},
   "outputs": [],
   "source": [
    "clf.predict(ndf)"
   ]
  },
  {
   "cell_type": "code",
   "execution_count": null,
   "metadata": {},
   "outputs": [],
   "source": [
    "clf.predict_proba(ndf)"
   ]
  },
  {
   "cell_type": "code",
   "execution_count": null,
   "metadata": {},
   "outputs": [],
   "source": [
    "imagepath = 'unknown4.jpg'\n",
    "image = Image.open(imagepath).convert(\"L\")\n",
    "resized_image = image.resize((36,36), Image.ADAPTIVE)\n",
    "pixel_values = np.array(resized_image)\n",
    "plt.imshow(pixel_values, cmap='gray')"
   ]
  },
  {
   "cell_type": "code",
   "execution_count": null,
   "metadata": {},
   "outputs": [],
   "source": [
    "normalized_pixel_values = (pixel_values).reshape(-1) / 255\n",
    "ndf = pd.DataFrame([normalized_pixel_values], columns=columns)"
   ]
  },
  {
   "cell_type": "markdown",
   "metadata": {},
   "source": [
    "'Hatchback':0, 'Pickup':1, 'Seden':2, 'SUV':3"
   ]
  },
  {
   "cell_type": "code",
   "execution_count": null,
   "metadata": {},
   "outputs": [],
   "source": [
    "clf.predict(ndf)"
   ]
  },
  {
   "cell_type": "code",
   "execution_count": null,
   "metadata": {},
   "outputs": [],
   "source": [
    "clf.predict_proba(ndf)"
   ]
  },
  {
   "cell_type": "code",
   "execution_count": null,
   "metadata": {},
   "outputs": [],
   "source": [
    "imagepath = 'unknown6.jpg'\n",
    "image = Image.open(imagepath).convert(\"L\")\n",
    "resized_image = image.resize((36,36), Image.ADAPTIVE)\n",
    "pixel_values = np.array(resized_image)\n",
    "plt.imshow(pixel_values, cmap='gray')"
   ]
  },
  {
   "cell_type": "code",
   "execution_count": null,
   "metadata": {},
   "outputs": [],
   "source": [
    "normalized_pixel_values = (pixel_values).reshape(-1) / 255\n",
    "ndf = pd.DataFrame([normalized_pixel_values], columns=columns)"
   ]
  },
  {
   "cell_type": "markdown",
   "metadata": {},
   "source": [
    "'Hatchback':0, 'Pickup':1, 'Seden':2, 'SUV':3"
   ]
  },
  {
   "cell_type": "code",
   "execution_count": null,
   "metadata": {},
   "outputs": [],
   "source": [
    "clf.predict(ndf)"
   ]
  }
 ],
 "metadata": {
  "kernelspec": {
   "display_name": "Python 3 (ipykernel)",
   "language": "python",
   "name": "python3"
  },
  "language_info": {
   "codemirror_mode": {
    "name": "ipython",
    "version": 3
   },
   "file_extension": ".py",
   "mimetype": "text/x-python",
   "name": "python",
   "nbconvert_exporter": "python",
   "pygments_lexer": "ipython3",
   "version": "3.11.6"
  }
 },
 "nbformat": 4,
 "nbformat_minor": 2
}
