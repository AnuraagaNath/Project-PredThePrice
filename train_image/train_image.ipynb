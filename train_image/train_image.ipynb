{
 "cells": [
  {
   "cell_type": "code",
   "execution_count": 13,
   "metadata": {},
   "outputs": [],
   "source": [
    "import pandas as pd \n",
    "from sklearn.linear_model import LogisticRegression, Perceptron\n",
    "from lazypredict.Supervised import LazyClassifier\n",
    "from sklearn.model_selection import train_test_split, GridSearchCV\n",
    "from PIL import Image\n",
    "import numpy as np\n",
    "from sklearn.metrics import accuracy_score, confusion_matrix\n",
    "import matplotlib.pyplot as plt\n",
    "from lightgbm import LGBMClassifier\n",
    "from sklearn.decomposition import PCA\n",
    "from sklearn.ensemble import RandomForestClassifier"
   ]
  },
  {
   "cell_type": "code",
   "execution_count": 3,
   "metadata": {},
   "outputs": [
    {
     "data": {
      "text/html": [
       "<div>\n",
       "<style scoped>\n",
       "    .dataframe tbody tr th:only-of-type {\n",
       "        vertical-align: middle;\n",
       "    }\n",
       "\n",
       "    .dataframe tbody tr th {\n",
       "        vertical-align: top;\n",
       "    }\n",
       "\n",
       "    .dataframe thead th {\n",
       "        text-align: right;\n",
       "    }\n",
       "</style>\n",
       "<table border=\"1\" class=\"dataframe\">\n",
       "  <thead>\n",
       "    <tr style=\"text-align: right;\">\n",
       "      <th></th>\n",
       "      <th>pixel_0</th>\n",
       "      <th>pixel_1</th>\n",
       "      <th>pixel_2</th>\n",
       "      <th>pixel_3</th>\n",
       "      <th>pixel_4</th>\n",
       "      <th>pixel_5</th>\n",
       "      <th>pixel_6</th>\n",
       "      <th>pixel_7</th>\n",
       "      <th>pixel_8</th>\n",
       "      <th>pixel_9</th>\n",
       "      <th>...</th>\n",
       "      <th>pixel_1287</th>\n",
       "      <th>pixel_1288</th>\n",
       "      <th>pixel_1289</th>\n",
       "      <th>pixel_1290</th>\n",
       "      <th>pixel_1291</th>\n",
       "      <th>pixel_1292</th>\n",
       "      <th>pixel_1293</th>\n",
       "      <th>pixel_1294</th>\n",
       "      <th>pixel_1295</th>\n",
       "      <th>label</th>\n",
       "    </tr>\n",
       "  </thead>\n",
       "  <tbody>\n",
       "    <tr>\n",
       "      <th>0</th>\n",
       "      <td>0.6588235294117647</td>\n",
       "      <td>0.3803921568627451</td>\n",
       "      <td>0.3254901960784314</td>\n",
       "      <td>0.5843137254901961</td>\n",
       "      <td>0.6745098039215687</td>\n",
       "      <td>0.7372549019607844</td>\n",
       "      <td>0.7607843137254902</td>\n",
       "      <td>0.7411764705882353</td>\n",
       "      <td>0.807843137254902</td>\n",
       "      <td>0.8941176470588236</td>\n",
       "      <td>...</td>\n",
       "      <td>0.0392156862745098</td>\n",
       "      <td>0.12941176470588237</td>\n",
       "      <td>0.1803921568627451</td>\n",
       "      <td>0.24705882352941178</td>\n",
       "      <td>0.0784313725490196</td>\n",
       "      <td>0.058823529411764705</td>\n",
       "      <td>0.047058823529411764</td>\n",
       "      <td>0.4117647058823529</td>\n",
       "      <td>0.592156862745098</td>\n",
       "      <td>Hatchback</td>\n",
       "    </tr>\n",
       "    <tr>\n",
       "      <th>1</th>\n",
       "      <td>0.5607843137254902</td>\n",
       "      <td>0.24705882352941178</td>\n",
       "      <td>0.22745098039215686</td>\n",
       "      <td>0.21176470588235294</td>\n",
       "      <td>0.42745098039215684</td>\n",
       "      <td>0.5882352941176471</td>\n",
       "      <td>0.5607843137254902</td>\n",
       "      <td>0.5254901960784314</td>\n",
       "      <td>0.5254901960784314</td>\n",
       "      <td>0.5333333333333333</td>\n",
       "      <td>...</td>\n",
       "      <td>0.054901960784313725</td>\n",
       "      <td>0.054901960784313725</td>\n",
       "      <td>0.047058823529411764</td>\n",
       "      <td>0.058823529411764705</td>\n",
       "      <td>0.4235294117647059</td>\n",
       "      <td>0.48627450980392156</td>\n",
       "      <td>0.03137254901960784</td>\n",
       "      <td>0.08235294117647059</td>\n",
       "      <td>0.11372549019607843</td>\n",
       "      <td>Hatchback</td>\n",
       "    </tr>\n",
       "    <tr>\n",
       "      <th>2</th>\n",
       "      <td>0.2784313725490196</td>\n",
       "      <td>0.2823529411764706</td>\n",
       "      <td>0.27450980392156865</td>\n",
       "      <td>0.38823529411764707</td>\n",
       "      <td>0.7450980392156863</td>\n",
       "      <td>0.7411764705882353</td>\n",
       "      <td>0.7803921568627451</td>\n",
       "      <td>0.5686274509803921</td>\n",
       "      <td>0.4980392156862745</td>\n",
       "      <td>0.5529411764705883</td>\n",
       "      <td>...</td>\n",
       "      <td>0.058823529411764705</td>\n",
       "      <td>0.058823529411764705</td>\n",
       "      <td>0.06666666666666667</td>\n",
       "      <td>0.06666666666666667</td>\n",
       "      <td>0.08235294117647059</td>\n",
       "      <td>0.09411764705882353</td>\n",
       "      <td>0.1450980392156863</td>\n",
       "      <td>0.38823529411764707</td>\n",
       "      <td>0.5019607843137255</td>\n",
       "      <td>Hatchback</td>\n",
       "    </tr>\n",
       "    <tr>\n",
       "      <th>3</th>\n",
       "      <td>0.8666666666666667</td>\n",
       "      <td>0.7764705882352941</td>\n",
       "      <td>0.8274509803921568</td>\n",
       "      <td>0.8784313725490196</td>\n",
       "      <td>0.9254901960784314</td>\n",
       "      <td>0.9568627450980393</td>\n",
       "      <td>0.8823529411764706</td>\n",
       "      <td>0.792156862745098</td>\n",
       "      <td>0.7843137254901961</td>\n",
       "      <td>0.796078431372549</td>\n",
       "      <td>...</td>\n",
       "      <td>0.9019607843137255</td>\n",
       "      <td>0.8745098039215686</td>\n",
       "      <td>0.8941176470588236</td>\n",
       "      <td>0.8313725490196079</td>\n",
       "      <td>0.7490196078431373</td>\n",
       "      <td>0.7803921568627451</td>\n",
       "      <td>0.8</td>\n",
       "      <td>0.7647058823529411</td>\n",
       "      <td>0.7647058823529411</td>\n",
       "      <td>Hatchback</td>\n",
       "    </tr>\n",
       "    <tr>\n",
       "      <th>4</th>\n",
       "      <td>0.6823529411764706</td>\n",
       "      <td>0.7294117647058823</td>\n",
       "      <td>0.4745098039215686</td>\n",
       "      <td>0.6</td>\n",
       "      <td>0.7333333333333333</td>\n",
       "      <td>0.6901960784313725</td>\n",
       "      <td>0.6941176470588235</td>\n",
       "      <td>0.7647058823529411</td>\n",
       "      <td>0.7686274509803922</td>\n",
       "      <td>0.792156862745098</td>\n",
       "      <td>...</td>\n",
       "      <td>0.1843137254901961</td>\n",
       "      <td>0.21176470588235294</td>\n",
       "      <td>0.21568627450980393</td>\n",
       "      <td>0.23137254901960785</td>\n",
       "      <td>0.2549019607843137</td>\n",
       "      <td>0.2627450980392157</td>\n",
       "      <td>0.2784313725490196</td>\n",
       "      <td>0.29411764705882354</td>\n",
       "      <td>0.35294117647058826</td>\n",
       "      <td>Hatchback</td>\n",
       "    </tr>\n",
       "  </tbody>\n",
       "</table>\n",
       "<p>5 rows × 1297 columns</p>\n",
       "</div>"
      ],
      "text/plain": [
       "              pixel_0              pixel_1              pixel_2  \\\n",
       "0  0.6588235294117647   0.3803921568627451   0.3254901960784314   \n",
       "1  0.5607843137254902  0.24705882352941178  0.22745098039215686   \n",
       "2  0.2784313725490196   0.2823529411764706  0.27450980392156865   \n",
       "3  0.8666666666666667   0.7764705882352941   0.8274509803921568   \n",
       "4  0.6823529411764706   0.7294117647058823   0.4745098039215686   \n",
       "\n",
       "               pixel_3              pixel_4             pixel_5  \\\n",
       "0   0.5843137254901961   0.6745098039215687  0.7372549019607844   \n",
       "1  0.21176470588235294  0.42745098039215684  0.5882352941176471   \n",
       "2  0.38823529411764707   0.7450980392156863  0.7411764705882353   \n",
       "3   0.8784313725490196   0.9254901960784314  0.9568627450980393   \n",
       "4                  0.6   0.7333333333333333  0.6901960784313725   \n",
       "\n",
       "              pixel_6             pixel_7             pixel_8  \\\n",
       "0  0.7607843137254902  0.7411764705882353   0.807843137254902   \n",
       "1  0.5607843137254902  0.5254901960784314  0.5254901960784314   \n",
       "2  0.7803921568627451  0.5686274509803921  0.4980392156862745   \n",
       "3  0.8823529411764706   0.792156862745098  0.7843137254901961   \n",
       "4  0.6941176470588235  0.7647058823529411  0.7686274509803922   \n",
       "\n",
       "              pixel_9  ...            pixel_1287            pixel_1288  \\\n",
       "0  0.8941176470588236  ...    0.0392156862745098   0.12941176470588237   \n",
       "1  0.5333333333333333  ...  0.054901960784313725  0.054901960784313725   \n",
       "2  0.5529411764705883  ...  0.058823529411764705  0.058823529411764705   \n",
       "3   0.796078431372549  ...    0.9019607843137255    0.8745098039215686   \n",
       "4   0.792156862745098  ...    0.1843137254901961   0.21176470588235294   \n",
       "\n",
       "             pixel_1289            pixel_1290           pixel_1291  \\\n",
       "0    0.1803921568627451   0.24705882352941178   0.0784313725490196   \n",
       "1  0.047058823529411764  0.058823529411764705   0.4235294117647059   \n",
       "2   0.06666666666666667   0.06666666666666667  0.08235294117647059   \n",
       "3    0.8941176470588236    0.8313725490196079   0.7490196078431373   \n",
       "4   0.21568627450980393   0.23137254901960785   0.2549019607843137   \n",
       "\n",
       "             pixel_1292            pixel_1293           pixel_1294  \\\n",
       "0  0.058823529411764705  0.047058823529411764   0.4117647058823529   \n",
       "1   0.48627450980392156   0.03137254901960784  0.08235294117647059   \n",
       "2   0.09411764705882353    0.1450980392156863  0.38823529411764707   \n",
       "3    0.7803921568627451                   0.8   0.7647058823529411   \n",
       "4    0.2627450980392157    0.2784313725490196  0.29411764705882354   \n",
       "\n",
       "            pixel_1295      label  \n",
       "0    0.592156862745098  Hatchback  \n",
       "1  0.11372549019607843  Hatchback  \n",
       "2   0.5019607843137255  Hatchback  \n",
       "3   0.7647058823529411  Hatchback  \n",
       "4  0.35294117647058826  Hatchback  \n",
       "\n",
       "[5 rows x 1297 columns]"
      ]
     },
     "execution_count": 3,
     "metadata": {},
     "output_type": "execute_result"
    }
   ],
   "source": [
    "columns = [f'pixel_{i}' for i in range(1296)]\n",
    "columns.append('label')\n",
    "df = pd.DataFrame(columns=columns)\n",
    "\n",
    "car_types = ['Hatchback', 'Pickup', 'Seden', 'SUV']\n",
    "for cartype in car_types:\n",
    "    path = f'./test_image/{cartype}/'\n",
    "    for i in range(1500):\n",
    "        try:\n",
    "            image = f'PHOTO_{i}.jpg'\n",
    "            image_path = path + image\n",
    "\n",
    "            image = Image.open(image_path).convert(\"L\")\n",
    "            image = image.resize((36, 36), Image.ADAPTIVE)\n",
    "            pixel_values = np.array(image).reshape(-1)\n",
    "            normalized_pixel_values = pixel_values / 255\n",
    "            row_data = np.concatenate([normalized_pixel_values, [cartype]])\n",
    "            ndf = pd.DataFrame([row_data], columns=columns)\n",
    "            df = pd.concat([df, ndf], ignore_index=True)   \n",
    "        except FileNotFoundError as e:\n",
    "            continue\n",
    "    \n",
    "    \n",
    "\n",
    "df.head()"
   ]
  },
  {
   "cell_type": "code",
   "execution_count": 4,
   "metadata": {},
   "outputs": [
    {
     "data": {
      "text/plain": [
       "<matplotlib.image.AxesImage at 0x7f85b0aa3090>"
      ]
     },
     "execution_count": 4,
     "metadata": {},
     "output_type": "execute_result"
    },
    {
     "data": {
      "image/png": "[encoded data removed]",
      "text/plain": [
       "<Figure size 640x480 with 1 Axes>"
      ]
     },
     "metadata": {},
     "output_type": "display_data"
    }
   ],
   "source": [
    "\n",
    "imagepath = 'test_image/Hatchback/PHOTO_0.jpg'\n",
    "image = Image.open(imagepath).convert(\"L\")\n",
    "resized_image = image.resize((36,36), Image.ADAPTIVE)\n",
    "pixel_values = np.array(resized_image)\n",
    "plt.imshow(pixel_values, cmap='gray')"
   ]
  },
  {
   "cell_type": "code",
   "execution_count": 5,
   "metadata": {},
   "outputs": [
    {
     "data": {
      "text/html": [
       "<div>\n",
       "<style scoped>\n",
       "    .dataframe tbody tr th:only-of-type {\n",
       "        vertical-align: middle;\n",
       "    }\n",
       "\n",
       "    .dataframe tbody tr th {\n",
       "        vertical-align: top;\n",
       "    }\n",
       "\n",
       "    .dataframe thead th {\n",
       "        text-align: right;\n",
       "    }\n",
       "</style>\n",
       "<table border=\"1\" class=\"dataframe\">\n",
       "  <thead>\n",
       "    <tr style=\"text-align: right;\">\n",
       "      <th></th>\n",
       "      <th>pixel_0</th>\n",
       "      <th>pixel_1</th>\n",
       "      <th>pixel_2</th>\n",
       "      <th>pixel_3</th>\n",
       "      <th>pixel_4</th>\n",
       "      <th>pixel_5</th>\n",
       "      <th>pixel_6</th>\n",
       "      <th>pixel_7</th>\n",
       "      <th>pixel_8</th>\n",
       "      <th>pixel_9</th>\n",
       "      <th>...</th>\n",
       "      <th>pixel_1287</th>\n",
       "      <th>pixel_1288</th>\n",
       "      <th>pixel_1289</th>\n",
       "      <th>pixel_1290</th>\n",
       "      <th>pixel_1291</th>\n",
       "      <th>pixel_1292</th>\n",
       "      <th>pixel_1293</th>\n",
       "      <th>pixel_1294</th>\n",
       "      <th>pixel_1295</th>\n",
       "      <th>label</th>\n",
       "    </tr>\n",
       "  </thead>\n",
       "  <tbody>\n",
       "    <tr>\n",
       "      <th>0</th>\n",
       "      <td>0.6588235294117647</td>\n",
       "      <td>0.3803921568627451</td>\n",
       "      <td>0.3254901960784314</td>\n",
       "      <td>0.5843137254901961</td>\n",
       "      <td>0.6745098039215687</td>\n",
       "      <td>0.7372549019607844</td>\n",
       "      <td>0.7607843137254902</td>\n",
       "      <td>0.7411764705882353</td>\n",
       "      <td>0.807843137254902</td>\n",
       "      <td>0.8941176470588236</td>\n",
       "      <td>...</td>\n",
       "      <td>0.0392156862745098</td>\n",
       "      <td>0.12941176470588237</td>\n",
       "      <td>0.1803921568627451</td>\n",
       "      <td>0.24705882352941178</td>\n",
       "      <td>0.0784313725490196</td>\n",
       "      <td>0.058823529411764705</td>\n",
       "      <td>0.047058823529411764</td>\n",
       "      <td>0.4117647058823529</td>\n",
       "      <td>0.592156862745098</td>\n",
       "      <td>Hatchback</td>\n",
       "    </tr>\n",
       "    <tr>\n",
       "      <th>1</th>\n",
       "      <td>0.5607843137254902</td>\n",
       "      <td>0.24705882352941178</td>\n",
       "      <td>0.22745098039215686</td>\n",
       "      <td>0.21176470588235294</td>\n",
       "      <td>0.42745098039215684</td>\n",
       "      <td>0.5882352941176471</td>\n",
       "      <td>0.5607843137254902</td>\n",
       "      <td>0.5254901960784314</td>\n",
       "      <td>0.5254901960784314</td>\n",
       "      <td>0.5333333333333333</td>\n",
       "      <td>...</td>\n",
       "      <td>0.054901960784313725</td>\n",
       "      <td>0.054901960784313725</td>\n",
       "      <td>0.047058823529411764</td>\n",
       "      <td>0.058823529411764705</td>\n",
       "      <td>0.4235294117647059</td>\n",
       "      <td>0.48627450980392156</td>\n",
       "      <td>0.03137254901960784</td>\n",
       "      <td>0.08235294117647059</td>\n",
       "      <td>0.11372549019607843</td>\n",
       "      <td>Hatchback</td>\n",
       "    </tr>\n",
       "    <tr>\n",
       "      <th>2</th>\n",
       "      <td>0.2784313725490196</td>\n",
       "      <td>0.2823529411764706</td>\n",
       "      <td>0.27450980392156865</td>\n",
       "      <td>0.38823529411764707</td>\n",
       "      <td>0.7450980392156863</td>\n",
       "      <td>0.7411764705882353</td>\n",
       "      <td>0.7803921568627451</td>\n",
       "      <td>0.5686274509803921</td>\n",
       "      <td>0.4980392156862745</td>\n",
       "      <td>0.5529411764705883</td>\n",
       "      <td>...</td>\n",
       "      <td>0.058823529411764705</td>\n",
       "      <td>0.058823529411764705</td>\n",
       "      <td>0.06666666666666667</td>\n",
       "      <td>0.06666666666666667</td>\n",
       "      <td>0.08235294117647059</td>\n",
       "      <td>0.09411764705882353</td>\n",
       "      <td>0.1450980392156863</td>\n",
       "      <td>0.38823529411764707</td>\n",
       "      <td>0.5019607843137255</td>\n",
       "      <td>Hatchback</td>\n",
       "    </tr>\n",
       "    <tr>\n",
       "      <th>3</th>\n",
       "      <td>0.8666666666666667</td>\n",
       "      <td>0.7764705882352941</td>\n",
       "      <td>0.8274509803921568</td>\n",
       "      <td>0.8784313725490196</td>\n",
       "      <td>0.9254901960784314</td>\n",
       "      <td>0.9568627450980393</td>\n",
       "      <td>0.8823529411764706</td>\n",
       "      <td>0.792156862745098</td>\n",
       "      <td>0.7843137254901961</td>\n",
       "      <td>0.796078431372549</td>\n",
       "      <td>...</td>\n",
       "      <td>0.9019607843137255</td>\n",
       "      <td>0.8745098039215686</td>\n",
       "      <td>0.8941176470588236</td>\n",
       "      <td>0.8313725490196079</td>\n",
       "      <td>0.7490196078431373</td>\n",
       "      <td>0.7803921568627451</td>\n",
       "      <td>0.8</td>\n",
       "      <td>0.7647058823529411</td>\n",
       "      <td>0.7647058823529411</td>\n",
       "      <td>Hatchback</td>\n",
       "    </tr>\n",
       "    <tr>\n",
       "      <th>4</th>\n",
       "      <td>0.6823529411764706</td>\n",
       "      <td>0.7294117647058823</td>\n",
       "      <td>0.4745098039215686</td>\n",
       "      <td>0.6</td>\n",
       "      <td>0.7333333333333333</td>\n",
       "      <td>0.6901960784313725</td>\n",
       "      <td>0.6941176470588235</td>\n",
       "      <td>0.7647058823529411</td>\n",
       "      <td>0.7686274509803922</td>\n",
       "      <td>0.792156862745098</td>\n",
       "      <td>...</td>\n",
       "      <td>0.1843137254901961</td>\n",
       "      <td>0.21176470588235294</td>\n",
       "      <td>0.21568627450980393</td>\n",
       "      <td>0.23137254901960785</td>\n",
       "      <td>0.2549019607843137</td>\n",
       "      <td>0.2627450980392157</td>\n",
       "      <td>0.2784313725490196</td>\n",
       "      <td>0.29411764705882354</td>\n",
       "      <td>0.35294117647058826</td>\n",
       "      <td>Hatchback</td>\n",
       "    </tr>\n",
       "    <tr>\n",
       "      <th>...</th>\n",
       "      <td>...</td>\n",
       "      <td>...</td>\n",
       "      <td>...</td>\n",
       "      <td>...</td>\n",
       "      <td>...</td>\n",
       "      <td>...</td>\n",
       "      <td>...</td>\n",
       "      <td>...</td>\n",
       "      <td>...</td>\n",
       "      <td>...</td>\n",
       "      <td>...</td>\n",
       "      <td>...</td>\n",
       "      <td>...</td>\n",
       "      <td>...</td>\n",
       "      <td>...</td>\n",
       "      <td>...</td>\n",
       "      <td>...</td>\n",
       "      <td>...</td>\n",
       "      <td>...</td>\n",
       "      <td>...</td>\n",
       "      <td>...</td>\n",
       "    </tr>\n",
       "    <tr>\n",
       "      <th>3657</th>\n",
       "      <td>0.6078431372549019</td>\n",
       "      <td>0.6</td>\n",
       "      <td>0.5725490196078431</td>\n",
       "      <td>0.5333333333333333</td>\n",
       "      <td>0.5137254901960784</td>\n",
       "      <td>0.4980392156862745</td>\n",
       "      <td>0.4588235294117647</td>\n",
       "      <td>0.2980392156862745</td>\n",
       "      <td>0.23529411764705882</td>\n",
       "      <td>0.37254901960784315</td>\n",
       "      <td>...</td>\n",
       "      <td>0.22745098039215686</td>\n",
       "      <td>0.25882352941176473</td>\n",
       "      <td>0.27450980392156865</td>\n",
       "      <td>0.3058823529411765</td>\n",
       "      <td>0.3607843137254902</td>\n",
       "      <td>0.40784313725490196</td>\n",
       "      <td>0.4549019607843137</td>\n",
       "      <td>0.49411764705882355</td>\n",
       "      <td>0.5137254901960784</td>\n",
       "      <td>SUV</td>\n",
       "    </tr>\n",
       "    <tr>\n",
       "      <th>3658</th>\n",
       "      <td>0.9686274509803922</td>\n",
       "      <td>0.984313725490196</td>\n",
       "      <td>0.9019607843137255</td>\n",
       "      <td>0.6980392156862745</td>\n",
       "      <td>0.49411764705882355</td>\n",
       "      <td>0.3843137254901961</td>\n",
       "      <td>0.40784313725490196</td>\n",
       "      <td>0.611764705882353</td>\n",
       "      <td>0.7607843137254902</td>\n",
       "      <td>0.8588235294117647</td>\n",
       "      <td>...</td>\n",
       "      <td>0.15294117647058825</td>\n",
       "      <td>0.19607843137254902</td>\n",
       "      <td>0.16862745098039217</td>\n",
       "      <td>0.1843137254901961</td>\n",
       "      <td>0.23137254901960785</td>\n",
       "      <td>0.2980392156862745</td>\n",
       "      <td>0.37254901960784315</td>\n",
       "      <td>0.403921568627451</td>\n",
       "      <td>0.4588235294117647</td>\n",
       "      <td>SUV</td>\n",
       "    </tr>\n",
       "    <tr>\n",
       "      <th>3659</th>\n",
       "      <td>0.6235294117647059</td>\n",
       "      <td>0.6078431372549019</td>\n",
       "      <td>0.6078431372549019</td>\n",
       "      <td>0.5764705882352941</td>\n",
       "      <td>0.5411764705882353</td>\n",
       "      <td>0.5176470588235295</td>\n",
       "      <td>0.47843137254901963</td>\n",
       "      <td>0.47058823529411764</td>\n",
       "      <td>0.3058823529411765</td>\n",
       "      <td>0.26666666666666666</td>\n",
       "      <td>...</td>\n",
       "      <td>0.16470588235294117</td>\n",
       "      <td>0.1843137254901961</td>\n",
       "      <td>0.21176470588235294</td>\n",
       "      <td>0.25098039215686274</td>\n",
       "      <td>0.29411764705882354</td>\n",
       "      <td>0.3411764705882353</td>\n",
       "      <td>0.41568627450980394</td>\n",
       "      <td>0.49411764705882355</td>\n",
       "      <td>0.5294117647058824</td>\n",
       "      <td>SUV</td>\n",
       "    </tr>\n",
       "    <tr>\n",
       "      <th>3660</th>\n",
       "      <td>0.7450980392156863</td>\n",
       "      <td>0.792156862745098</td>\n",
       "      <td>0.8235294117647058</td>\n",
       "      <td>0.8431372549019608</td>\n",
       "      <td>0.8901960784313725</td>\n",
       "      <td>0.9137254901960784</td>\n",
       "      <td>0.9019607843137255</td>\n",
       "      <td>0.8901960784313725</td>\n",
       "      <td>0.9058823529411765</td>\n",
       "      <td>0.8313725490196079</td>\n",
       "      <td>...</td>\n",
       "      <td>0.13333333333333333</td>\n",
       "      <td>0.1607843137254902</td>\n",
       "      <td>0.17647058823529413</td>\n",
       "      <td>0.19215686274509805</td>\n",
       "      <td>0.22745098039215686</td>\n",
       "      <td>0.24705882352941178</td>\n",
       "      <td>0.2823529411764706</td>\n",
       "      <td>0.3254901960784314</td>\n",
       "      <td>0.34901960784313724</td>\n",
       "      <td>SUV</td>\n",
       "    </tr>\n",
       "    <tr>\n",
       "      <th>3661</th>\n",
       "      <td>0.8549019607843137</td>\n",
       "      <td>0.9215686274509803</td>\n",
       "      <td>0.8352941176470589</td>\n",
       "      <td>0.8745098039215686</td>\n",
       "      <td>0.7333333333333333</td>\n",
       "      <td>0.5058823529411764</td>\n",
       "      <td>0.5333333333333333</td>\n",
       "      <td>0.5803921568627451</td>\n",
       "      <td>0.5803921568627451</td>\n",
       "      <td>0.5647058823529412</td>\n",
       "      <td>...</td>\n",
       "      <td>0.1607843137254902</td>\n",
       "      <td>0.23137254901960785</td>\n",
       "      <td>0.28627450980392155</td>\n",
       "      <td>0.39215686274509803</td>\n",
       "      <td>0.25882352941176473</td>\n",
       "      <td>0.03137254901960784</td>\n",
       "      <td>0.03137254901960784</td>\n",
       "      <td>0.13725490196078433</td>\n",
       "      <td>0.4823529411764706</td>\n",
       "      <td>SUV</td>\n",
       "    </tr>\n",
       "  </tbody>\n",
       "</table>\n",
       "<p>3662 rows × 1297 columns</p>\n",
       "</div>"
      ],
      "text/plain": [
       "                 pixel_0              pixel_1              pixel_2  \\\n",
       "0     0.6588235294117647   0.3803921568627451   0.3254901960784314   \n",
       "1     0.5607843137254902  0.24705882352941178  0.22745098039215686   \n",
       "2     0.2784313725490196   0.2823529411764706  0.27450980392156865   \n",
       "3     0.8666666666666667   0.7764705882352941   0.8274509803921568   \n",
       "4     0.6823529411764706   0.7294117647058823   0.4745098039215686   \n",
       "...                  ...                  ...                  ...   \n",
       "3657  0.6078431372549019                  0.6   0.5725490196078431   \n",
       "3658  0.9686274509803922    0.984313725490196   0.9019607843137255   \n",
       "3659  0.6235294117647059   0.6078431372549019   0.6078431372549019   \n",
       "3660  0.7450980392156863    0.792156862745098   0.8235294117647058   \n",
       "3661  0.8549019607843137   0.9215686274509803   0.8352941176470589   \n",
       "\n",
       "                  pixel_3              pixel_4             pixel_5  \\\n",
       "0      0.5843137254901961   0.6745098039215687  0.7372549019607844   \n",
       "1     0.21176470588235294  0.42745098039215684  0.5882352941176471   \n",
       "2     0.38823529411764707   0.7450980392156863  0.7411764705882353   \n",
       "3      0.8784313725490196   0.9254901960784314  0.9568627450980393   \n",
       "4                     0.6   0.7333333333333333  0.6901960784313725   \n",
       "...                   ...                  ...                 ...   \n",
       "3657   0.5333333333333333   0.5137254901960784  0.4980392156862745   \n",
       "3658   0.6980392156862745  0.49411764705882355  0.3843137254901961   \n",
       "3659   0.5764705882352941   0.5411764705882353  0.5176470588235295   \n",
       "3660   0.8431372549019608   0.8901960784313725  0.9137254901960784   \n",
       "3661   0.8745098039215686   0.7333333333333333  0.5058823529411764   \n",
       "\n",
       "                  pixel_6              pixel_7              pixel_8  \\\n",
       "0      0.7607843137254902   0.7411764705882353    0.807843137254902   \n",
       "1      0.5607843137254902   0.5254901960784314   0.5254901960784314   \n",
       "2      0.7803921568627451   0.5686274509803921   0.4980392156862745   \n",
       "3      0.8823529411764706    0.792156862745098   0.7843137254901961   \n",
       "4      0.6941176470588235   0.7647058823529411   0.7686274509803922   \n",
       "...                   ...                  ...                  ...   \n",
       "3657   0.4588235294117647   0.2980392156862745  0.23529411764705882   \n",
       "3658  0.40784313725490196    0.611764705882353   0.7607843137254902   \n",
       "3659  0.47843137254901963  0.47058823529411764   0.3058823529411765   \n",
       "3660   0.9019607843137255   0.8901960784313725   0.9058823529411765   \n",
       "3661   0.5333333333333333   0.5803921568627451   0.5803921568627451   \n",
       "\n",
       "                  pixel_9  ...            pixel_1287            pixel_1288  \\\n",
       "0      0.8941176470588236  ...    0.0392156862745098   0.12941176470588237   \n",
       "1      0.5333333333333333  ...  0.054901960784313725  0.054901960784313725   \n",
       "2      0.5529411764705883  ...  0.058823529411764705  0.058823529411764705   \n",
       "3       0.796078431372549  ...    0.9019607843137255    0.8745098039215686   \n",
       "4       0.792156862745098  ...    0.1843137254901961   0.21176470588235294   \n",
       "...                   ...  ...                   ...                   ...   \n",
       "3657  0.37254901960784315  ...   0.22745098039215686   0.25882352941176473   \n",
       "3658   0.8588235294117647  ...   0.15294117647058825   0.19607843137254902   \n",
       "3659  0.26666666666666666  ...   0.16470588235294117    0.1843137254901961   \n",
       "3660   0.8313725490196079  ...   0.13333333333333333    0.1607843137254902   \n",
       "3661   0.5647058823529412  ...    0.1607843137254902   0.23137254901960785   \n",
       "\n",
       "                pixel_1289            pixel_1290           pixel_1291  \\\n",
       "0       0.1803921568627451   0.24705882352941178   0.0784313725490196   \n",
       "1     0.047058823529411764  0.058823529411764705   0.4235294117647059   \n",
       "2      0.06666666666666667   0.06666666666666667  0.08235294117647059   \n",
       "3       0.8941176470588236    0.8313725490196079   0.7490196078431373   \n",
       "4      0.21568627450980393   0.23137254901960785   0.2549019607843137   \n",
       "...                    ...                   ...                  ...   \n",
       "3657   0.27450980392156865    0.3058823529411765   0.3607843137254902   \n",
       "3658   0.16862745098039217    0.1843137254901961  0.23137254901960785   \n",
       "3659   0.21176470588235294   0.25098039215686274  0.29411764705882354   \n",
       "3660   0.17647058823529413   0.19215686274509805  0.22745098039215686   \n",
       "3661   0.28627450980392155   0.39215686274509803  0.25882352941176473   \n",
       "\n",
       "                pixel_1292            pixel_1293           pixel_1294  \\\n",
       "0     0.058823529411764705  0.047058823529411764   0.4117647058823529   \n",
       "1      0.48627450980392156   0.03137254901960784  0.08235294117647059   \n",
       "2      0.09411764705882353    0.1450980392156863  0.38823529411764707   \n",
       "3       0.7803921568627451                   0.8   0.7647058823529411   \n",
       "4       0.2627450980392157    0.2784313725490196  0.29411764705882354   \n",
       "...                    ...                   ...                  ...   \n",
       "3657   0.40784313725490196    0.4549019607843137  0.49411764705882355   \n",
       "3658    0.2980392156862745   0.37254901960784315    0.403921568627451   \n",
       "3659    0.3411764705882353   0.41568627450980394  0.49411764705882355   \n",
       "3660   0.24705882352941178    0.2823529411764706   0.3254901960784314   \n",
       "3661   0.03137254901960784   0.03137254901960784  0.13725490196078433   \n",
       "\n",
       "               pixel_1295      label  \n",
       "0       0.592156862745098  Hatchback  \n",
       "1     0.11372549019607843  Hatchback  \n",
       "2      0.5019607843137255  Hatchback  \n",
       "3      0.7647058823529411  Hatchback  \n",
       "4     0.35294117647058826  Hatchback  \n",
       "...                   ...        ...  \n",
       "3657   0.5137254901960784        SUV  \n",
       "3658   0.4588235294117647        SUV  \n",
       "3659   0.5294117647058824        SUV  \n",
       "3660  0.34901960784313724        SUV  \n",
       "3661   0.4823529411764706        SUV  \n",
       "\n",
       "[3662 rows x 1297 columns]"
      ]
     },
     "execution_count": 5,
     "metadata": {},
     "output_type": "execute_result"
    }
   ],
   "source": [
    "df"
   ]
  },
  {
   "cell_type": "code",
   "execution_count": 6,
   "metadata": {},
   "outputs": [],
   "source": [
    "df.to_csv('new_image_dataset_36pixels.csv', index=False)"
   ]
  },
  {
   "cell_type": "code",
   "execution_count": 41,
   "metadata": {},
   "outputs": [],
   "source": [
    "df = pd.read_csv('new_image_dataset_36pixels.csv')"
   ]
  },
  {
   "cell_type": "code",
   "execution_count": 42,
   "metadata": {},
   "outputs": [],
   "source": [
    "newdf = df.copy()\n",
    "newdf['label'] = newdf['label'].replace({'Hatchback':0, 'Pickup':1, 'Seden':2, 'SUV':3})"
   ]
  },
  {
   "cell_type": "code",
   "execution_count": 43,
   "metadata": {},
   "outputs": [],
   "source": [
    "X = newdf.drop('label', axis=1)\n",
    "y = newdf['label']\n",
    "X_train, X_test, y_train, y_test = train_test_split(X, y, test_size=0.3, random_state=42)"
   ]
  },
  {
   "cell_type": "code",
   "execution_count": 44,
   "metadata": {},
   "outputs": [],
   "source": [
    "# lc = LazyClassifier()\n",
    "# models, predictions = lc.fit(X_train, X_test, y_train, y_test)\n",
    "# models"
   ]
  },
  {
   "cell_type": "code",
   "execution_count": 45,
   "metadata": {},
   "outputs": [],
   "source": [
    "# models.to_csv('newmodels_choice.csv')"
   ]
  },
  {
   "cell_type": "code",
   "execution_count": 67,
   "metadata": {},
   "outputs": [],
   "source": [
    "clf = RandomForestClassifier()\n",
    "clf.fit(X_train, y_train)\n",
    "y_pred = clf.predict(X_test)"
   ]
  },
  {
   "cell_type": "code",
   "execution_count": 68,
   "metadata": {},
   "outputs": [
    {
     "data": {
      "text/plain": [
       "array([[194,   3,   5,   5],\n",
       "       [  0, 334,   0,   0],\n",
       "       [  0,   0, 364,   0],\n",
       "       [  0,   0,   0, 194]])"
      ]
     },
     "execution_count": 68,
     "metadata": {},
     "output_type": "execute_result"
    }
   ],
   "source": [
    "confusion_matrix(y_test, y_pred)"
   ]
  },
  {
   "cell_type": "code",
   "execution_count": 69,
   "metadata": {},
   "outputs": [
    {
     "data": {
      "text/plain": [
       "1.0"
      ]
     },
     "execution_count": 69,
     "metadata": {},
     "output_type": "execute_result"
    }
   ],
   "source": [
    "clf.score(X_train, y_train)"
   ]
  },
  {
   "cell_type": "code",
   "execution_count": 70,
   "metadata": {},
   "outputs": [
    {
     "data": {
      "text/plain": [
       "0.9881710646041856"
      ]
     },
     "execution_count": 70,
     "metadata": {},
     "output_type": "execute_result"
    }
   ],
   "source": [
    "clf.score(X_test, y_test)"
   ]
  },
  {
   "cell_type": "code",
   "execution_count": 180,
   "metadata": {},
   "outputs": [],
   "source": [
    "# save model\n",
    "import pickle\n",
    "pickle.dump(clf, open('./car_detection_model.pkl', 'wb'))"
   ]
  },
  {
   "cell_type": "markdown",
   "metadata": {},
   "source": [
    "testing images"
   ]
  },
  {
   "cell_type": "code",
   "execution_count": 62,
   "metadata": {},
   "outputs": [
    {
     "data": {
      "text/plain": [
       "<matplotlib.image.AxesImage at 0x7f8583908790>"
      ]
     },
     "execution_count": 62,
     "metadata": {},
     "output_type": "execute_result"
    },
    {
     "data": {
      "image/png": "[encoded data removed]",
      "text/plain": [
       "<Figure size 640x480 with 1 Axes>"
      ]
     },
     "metadata": {},
     "output_type": "display_data"
    }
   ],
   "source": [
    "imagepath = 'test_image/Hatchback/PHOTO_342.jpg'\n",
    "image = Image.open(imagepath).convert(\"L\")\n",
    "resized_image = image.resize((36,36), Image.ADAPTIVE)\n",
    "pixel_values = np.array(resized_image)\n",
    "plt.imshow(pixel_values, cmap='gray')"
   ]
  },
  {
   "cell_type": "code",
   "execution_count": 63,
   "metadata": {},
   "outputs": [],
   "source": [
    "columns = [f'pixel_{i}' for i in range(1296)]"
   ]
  },
  {
   "cell_type": "code",
   "execution_count": 65,
   "metadata": {},
   "outputs": [],
   "source": [
    "normalized_pixel_values = (pixel_values).reshape(-1) / 255\n",
    "ndf = pd.DataFrame([normalized_pixel_values], columns=columns)"
   ]
  },
  {
   "cell_type": "markdown",
   "metadata": {},
   "source": [
    "'Hatchback':0, 'Pickup':1, 'Seden':2, 'SUV':3"
   ]
  },
  {
   "cell_type": "code",
   "execution_count": 71,
   "metadata": {},
   "outputs": [
    {
     "data": {
      "text/plain": [
       "array([0])"
      ]
     },
     "execution_count": 71,
     "metadata": {},
     "output_type": "execute_result"
    }
   ],
   "source": [
    "clf.predict(ndf)"
   ]
  },
  {
   "cell_type": "code",
   "execution_count": 72,
   "metadata": {},
   "outputs": [
    {
     "data": {
      "text/plain": [
       "<matplotlib.image.AxesImage at 0x7f8583307b10>"
      ]
     },
     "execution_count": 72,
     "metadata": {},
     "output_type": "execute_result"
    },
    {
     "data": {
      "image/png": "[encoded data removed]",
      "text/plain": [
       "<Figure size 640x480 with 1 Axes>"
      ]
     },
     "metadata": {},
     "output_type": "display_data"
    }
   ],
   "source": [
    "imagepath = 'test_image/Pickup/PHOTO_342.jpg'\n",
    "image = Image.open(imagepath).convert(\"L\")\n",
    "resized_image = image.resize((36,36), Image.ADAPTIVE)\n",
    "pixel_values = np.array(resized_image)\n",
    "plt.imshow(pixel_values, cmap='gray')"
   ]
  },
  {
   "cell_type": "code",
   "execution_count": 73,
   "metadata": {},
   "outputs": [],
   "source": [
    "normalized_pixel_values = (pixel_values).reshape(-1) / 255\n",
    "ndf = pd.DataFrame([normalized_pixel_values], columns=columns)"
   ]
  },
  {
   "cell_type": "markdown",
   "metadata": {},
   "source": [
    "'Hatchback':0, 'Pickup':1, 'Seden':2, 'SUV':3"
   ]
  },
  {
   "cell_type": "code",
   "execution_count": 74,
   "metadata": {},
   "outputs": [
    {
     "data": {
      "text/plain": [
       "array([1])"
      ]
     },
     "execution_count": 74,
     "metadata": {},
     "output_type": "execute_result"
    }
   ],
   "source": [
    "clf.predict(ndf)"
   ]
  },
  {
   "cell_type": "code",
   "execution_count": 75,
   "metadata": {},
   "outputs": [
    {
     "data": {
      "text/plain": [
       "<matplotlib.image.AxesImage at 0x7f85831c6410>"
      ]
     },
     "execution_count": 75,
     "metadata": {},
     "output_type": "execute_result"
    },
    {
     "data": {
      "image/png": "[encoded data removed]",
      "text/plain": [
       "<Figure size 640x480 with 1 Axes>"
      ]
     },
     "metadata": {},
     "output_type": "display_data"
    }
   ],
   "source": [
    "imagepath = 'test_image/Seden/PHOTO_548.jpg'\n",
    "image = Image.open(imagepath).convert(\"L\")\n",
    "resized_image = image.resize((36,36), Image.ADAPTIVE)\n",
    "pixel_values = np.array(resized_image)\n",
    "plt.imshow(pixel_values, cmap='gray')"
   ]
  },
  {
   "cell_type": "code",
   "execution_count": 76,
   "metadata": {},
   "outputs": [],
   "source": [
    "normalized_pixel_values = (pixel_values).reshape(-1) / 255\n",
    "ndf = pd.DataFrame([normalized_pixel_values], columns=columns)"
   ]
  },
  {
   "cell_type": "markdown",
   "metadata": {},
   "source": [
    "'Hatchback':0, 'Pickup':1, 'Seden':2, 'SUV':3"
   ]
  },
  {
   "cell_type": "code",
   "execution_count": 77,
   "metadata": {},
   "outputs": [
    {
     "data": {
      "text/plain": [
       "array([2])"
      ]
     },
     "execution_count": 77,
     "metadata": {},
     "output_type": "execute_result"
    }
   ],
   "source": [
    "clf.predict(ndf)"
   ]
  },
  {
   "cell_type": "code",
   "execution_count": 79,
   "metadata": {},
   "outputs": [
    {
     "data": {
      "text/plain": [
       "<matplotlib.image.AxesImage at 0x7f8583292710>"
      ]
     },
     "execution_count": 79,
     "metadata": {},
     "output_type": "execute_result"
    },
    {
     "data": {
      "image/png": "[encoded data removed]",
      "text/plain": [
       "<Figure size 640x480 with 1 Axes>"
      ]
     },
     "metadata": {},
     "output_type": "display_data"
    }
   ],
   "source": [
    "imagepath = 'test_image/SUV/PHOTO_123.jpg'\n",
    "image = Image.open(imagepath).convert(\"L\")\n",
    "resized_image = image.resize((36,36), Image.ADAPTIVE)\n",
    "pixel_values = np.array(resized_image)\n",
    "plt.imshow(pixel_values, cmap='gray')"
   ]
  },
  {
   "cell_type": "code",
   "execution_count": 80,
   "metadata": {},
   "outputs": [],
   "source": [
    "normalized_pixel_values = (pixel_values).reshape(-1) / 255\n",
    "ndf = pd.DataFrame([normalized_pixel_values], columns=columns)"
   ]
  },
  {
   "cell_type": "code",
   "execution_count": 81,
   "metadata": {},
   "outputs": [
    {
     "data": {
      "text/plain": [
       "array([3])"
      ]
     },
     "execution_count": 81,
     "metadata": {},
     "output_type": "execute_result"
    }
   ],
   "source": [
    "clf.predict(ndf)"
   ]
  },
  {
   "cell_type": "code",
   "execution_count": 91,
   "metadata": {},
   "outputs": [
    {
     "data": {
      "text/plain": [
       "<matplotlib.image.AxesImage at 0x7f858307c310>"
      ]
     },
     "execution_count": 91,
     "metadata": {},
     "output_type": "execute_result"
    },
    {
     "data": {
      "image/png": "[encoded data removed]",
      "text/plain": [
       "<Figure size 640x480 with 1 Axes>"
      ]
     },
     "metadata": {},
     "output_type": "display_data"
    }
   ],
   "source": [
    "imagepath = 'pickup.jpg'\n",
    "image = Image.open(imagepath).convert(\"L\")\n",
    "resized_image = image.resize((36,36), Image.ADAPTIVE)\n",
    "pixel_values = np.array(resized_image)\n",
    "plt.imshow(pixel_values, cmap='gray')"
   ]
  },
  {
   "cell_type": "code",
   "execution_count": 92,
   "metadata": {},
   "outputs": [],
   "source": [
    "normalized_pixel_values = (pixel_values).reshape(-1) / 255\n",
    "ndf = pd.DataFrame([normalized_pixel_values], columns=columns)"
   ]
  },
  {
   "cell_type": "markdown",
   "metadata": {},
   "source": [
    "'Hatchback':0, 'Pickup':1, 'Seden':2, 'SUV':3"
   ]
  },
  {
   "cell_type": "code",
   "execution_count": 93,
   "metadata": {},
   "outputs": [
    {
     "data": {
      "text/plain": [
       "array([1])"
      ]
     },
     "execution_count": 93,
     "metadata": {},
     "output_type": "execute_result"
    }
   ],
   "source": [
    "clf.predict(ndf)"
   ]
  },
  {
   "cell_type": "code",
   "execution_count": 97,
   "metadata": {},
   "outputs": [
    {
     "data": {
      "text/plain": [
       "<matplotlib.image.AxesImage at 0x7f8582f5a790>"
      ]
     },
     "execution_count": 97,
     "metadata": {},
     "output_type": "execute_result"
    },
    {
     "data": {
      "image/png": "[encoded data removed]",
      "text/plain": [
       "<Figure size 640x480 with 1 Axes>"
      ]
     },
     "metadata": {},
     "output_type": "display_data"
    }
   ],
   "source": [
    "imagepath = 'pickup2.jpg'\n",
    "image = Image.open(imagepath).convert(\"L\")\n",
    "resized_image = image.resize((36,36), Image.ADAPTIVE)\n",
    "pixel_values = np.array(resized_image)\n",
    "plt.imshow(pixel_values, cmap='gray')"
   ]
  },
  {
   "cell_type": "code",
   "execution_count": 98,
   "metadata": {},
   "outputs": [],
   "source": [
    "normalized_pixel_values = (pixel_values).reshape(-1) / 255\n",
    "ndf = pd.DataFrame([normalized_pixel_values], columns=columns)"
   ]
  },
  {
   "cell_type": "markdown",
   "metadata": {},
   "source": [
    "'Hatchback':0, 'Pickup':1, 'Seden':2, 'SUV':3"
   ]
  },
  {
   "cell_type": "code",
   "execution_count": 99,
   "metadata": {},
   "outputs": [
    {
     "data": {
      "text/plain": [
       "array([1])"
      ]
     },
     "execution_count": 99,
     "metadata": {},
     "output_type": "execute_result"
    }
   ],
   "source": [
    "clf.predict(ndf)"
   ]
  },
  {
   "cell_type": "code",
   "execution_count": 103,
   "metadata": {},
   "outputs": [
    {
     "data": {
      "text/plain": [
       "<matplotlib.image.AxesImage at 0x7f8582e557d0>"
      ]
     },
     "execution_count": 103,
     "metadata": {},
     "output_type": "execute_result"
    },
    {
     "data": {
      "image/png": "[encoded data removed]",
      "text/plain": [
       "<Figure size 640x480 with 1 Axes>"
      ]
     },
     "metadata": {},
     "output_type": "display_data"
    }
   ],
   "source": [
    "imagepath = 'sedan.jpg'\n",
    "image = Image.open(imagepath).convert(\"L\")\n",
    "resized_image = image.resize((36,36), Image.ADAPTIVE)\n",
    "pixel_values = np.array(resized_image)\n",
    "plt.imshow(pixel_values, cmap='gray')"
   ]
  },
  {
   "cell_type": "code",
   "execution_count": 104,
   "metadata": {},
   "outputs": [],
   "source": [
    "normalized_pixel_values = (pixel_values).reshape(-1) / 255\n",
    "ndf = pd.DataFrame([normalized_pixel_values], columns=columns)"
   ]
  },
  {
   "cell_type": "markdown",
   "metadata": {},
   "source": [
    "'Hatchback':0, 'Pickup':1, 'Seden':2, 'SUV':3"
   ]
  },
  {
   "cell_type": "code",
   "execution_count": 105,
   "metadata": {},
   "outputs": [
    {
     "data": {
      "text/plain": [
       "array([2])"
      ]
     },
     "execution_count": 105,
     "metadata": {},
     "output_type": "execute_result"
    }
   ],
   "source": [
    "clf.predict(ndf)"
   ]
  },
  {
   "cell_type": "code",
   "execution_count": 111,
   "metadata": {},
   "outputs": [
    {
     "data": {
      "text/plain": [
       "<matplotlib.image.AxesImage at 0x7f8582c0b490>"
      ]
     },
     "execution_count": 111,
     "metadata": {},
     "output_type": "execute_result"
    },
    {
     "data": {
      "image/png": "[encoded data removed]",
      "text/plain": [
       "<Figure size 640x480 with 1 Axes>"
      ]
     },
     "metadata": {},
     "output_type": "display_data"
    }
   ],
   "source": [
    "imagepath = 'sedan2.jpg'\n",
    "image = Image.open(imagepath).convert(\"L\")\n",
    "resized_image = image.resize((36,36), Image.ADAPTIVE)\n",
    "pixel_values = np.array(resized_image)\n",
    "plt.imshow(pixel_values, cmap='gray')"
   ]
  },
  {
   "cell_type": "code",
   "execution_count": 112,
   "metadata": {},
   "outputs": [],
   "source": [
    "normalized_pixel_values = (pixel_values).reshape(-1) / 255\n",
    "ndf = pd.DataFrame([normalized_pixel_values], columns=columns)"
   ]
  },
  {
   "cell_type": "markdown",
   "metadata": {},
   "source": [
    "'Hatchback':0, 'Pickup':1, 'Seden':2, 'SUV':3"
   ]
  },
  {
   "cell_type": "code",
   "execution_count": 113,
   "metadata": {},
   "outputs": [
    {
     "data": {
      "text/plain": [
       "array([2])"
      ]
     },
     "execution_count": 113,
     "metadata": {},
     "output_type": "execute_result"
    }
   ],
   "source": [
    "clf.predict(ndf)"
   ]
  },
  {
   "cell_type": "code",
   "execution_count": 153,
   "metadata": {},
   "outputs": [
    {
     "data": {
      "text/plain": [
       "<matplotlib.image.AxesImage at 0x7f85825f9a10>"
      ]
     },
     "execution_count": 153,
     "metadata": {},
     "output_type": "execute_result"
    },
    {
     "data": {
      "image/png": "[encoded data removed]",
      "text/plain": [
       "<Figure size 640x480 with 1 Axes>"
      ]
     },
     "metadata": {},
     "output_type": "display_data"
    }
   ],
   "source": [
    "imagepath = 'suv.jpg'\n",
    "image = Image.open(imagepath).convert(\"L\")\n",
    "resized_image = image.resize((36,36), Image.ADAPTIVE)\n",
    "pixel_values = np.array(resized_image)\n",
    "plt.imshow(pixel_values, cmap='gray')"
   ]
  },
  {
   "cell_type": "code",
   "execution_count": 154,
   "metadata": {},
   "outputs": [],
   "source": [
    "normalized_pixel_values = (pixel_values).reshape(-1) / 255\n",
    "ndf = pd.DataFrame([normalized_pixel_values], columns=columns)"
   ]
  },
  {
   "cell_type": "markdown",
   "metadata": {},
   "source": [
    "'Hatchback':0, 'Pickup':1, 'Seden':2, 'SUV':3"
   ]
  },
  {
   "cell_type": "code",
   "execution_count": 155,
   "metadata": {},
   "outputs": [
    {
     "data": {
      "text/plain": [
       "array([3])"
      ]
     },
     "execution_count": 155,
     "metadata": {},
     "output_type": "execute_result"
    }
   ],
   "source": [
    "clf.predict(ndf)"
   ]
  },
  {
   "cell_type": "code",
   "execution_count": 190,
   "metadata": {},
   "outputs": [
    {
     "data": {
      "text/plain": [
       "<matplotlib.image.AxesImage at 0x7f8581fb39d0>"
      ]
     },
     "execution_count": 190,
     "metadata": {},
     "output_type": "execute_result"
    },
    {
     "data": {
      "image/png": "[encoded data removed]",
      "text/plain": [
       "<Figure size 640x480 with 1 Axes>"
      ]
     },
     "metadata": {},
     "output_type": "display_data"
    }
   ],
   "source": [
    "imagepath = 'unknown.jpg'\n",
    "image = Image.open(imagepath).convert(\"L\")\n",
    "resized_image = image.resize((36,36), Image.ADAPTIVE)\n",
    "pixel_values = np.array(resized_image)\n",
    "plt.imshow(pixel_values, cmap='gray')"
   ]
  },
  {
   "cell_type": "code",
   "execution_count": 191,
   "metadata": {},
   "outputs": [],
   "source": [
    "normalized_pixel_values = (pixel_values).reshape(-1) / 255\n",
    "ndf = pd.DataFrame([normalized_pixel_values], columns=columns)"
   ]
  },
  {
   "cell_type": "markdown",
   "metadata": {},
   "source": [
    "'Hatchback':0, 'Pickup':1, 'Seden':2, 'SUV':3"
   ]
  },
  {
   "cell_type": "code",
   "execution_count": 192,
   "metadata": {},
   "outputs": [
    {
     "data": {
      "text/plain": [
       "array([2])"
      ]
     },
     "execution_count": 192,
     "metadata": {},
     "output_type": "execute_result"
    }
   ],
   "source": [
    "clf.predict(ndf)"
   ]
  }
 ],
 "metadata": {
  "kernelspec": {
   "display_name": "train_image",
   "language": "python",
   "name": "python3"
  },
  "language_info": {
   "codemirror_mode": {
    "name": "ipython",
    "version": 3
   },
   "file_extension": ".py",
   "mimetype": "text/x-python",
   "name": "python",
   "nbconvert_exporter": "python",
   "pygments_lexer": "ipython3",
   "version": "3.11.6"
  }
 },
 "nbformat": 4,
 "nbformat_minor": 2
}
