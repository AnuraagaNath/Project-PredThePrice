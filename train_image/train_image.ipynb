{
 "cells": [
  {
   "cell_type": "markdown",
   "metadata": {},
   "source": [
    "# Image Classification Model Development"
   ]
  },
  {
   "cell_type": "code",
   "execution_count": null,
   "metadata": {},
   "outputs": [],
   "source": [
    "import pandas as pd \n",
    "from glob import glob\n",
    "from sklearn.linear_model import LogisticRegression, Perceptron\n",
    "from lazypredict.Supervised import LazyClassifier\n",
    "from sklearn.model_selection import train_test_split, GridSearchCV\n",
    "from PIL import Image\n",
    "import numpy as np\n",
    "from sklearn.metrics import accuracy_score, confusion_matrix, classification_report, ConfusionMatrixDisplay\n",
    "import matplotlib.pyplot as plt\n",
    "from lightgbm import LGBMClassifier\n",
    "from sklearn.decomposition import PCA\n",
    "from sklearn.ensemble import RandomForestClassifier"
   ]
  },
  {
   "cell_type": "code",
   "execution_count": null,
   "metadata": {},
   "outputs": [],
   "source": [
    "columns = [f'pixel_{i}' for i in range(1296)]\n",
    "columns.append('label')\n",
    "df = pd.DataFrame(columns=columns)\n",
    "\n",
    "car_folders = glob('/home/anuraaga/Documents/Projects/Project-PredthePrice/train_image/test_image/*')\n",
    "car_folders"
   ]
  },
  {
   "cell_type": "code",
   "execution_count": null,
   "metadata": {},
   "outputs": [],
   "source": [
    "for folder in car_folders:\n",
    "    car_images = glob(folder+'/*.jpg')\n",
    "    for img in car_images:\n",
    "        image = Image\\\n",
    "            .open(img)\\\n",
    "            .convert(\"L\")\\\n",
    "            .resize((36,36), Image.ADAPTIVE)\n",
    "        pixel_values = np.array(image).reshape(-1)\n",
    "        normalized_pixel_values = pixel_values / 255\n",
    "        row_data = np.concatenate([normalized_pixel_values, [folder.split('/')[-1]]])\n",
    "        ndf = pd.DataFrame([row_data], columns=columns)\n",
    "        df = pd.concat([df, ndf], ignore_index=True)   "
   ]
  },
  {
   "cell_type": "code",
   "execution_count": null,
   "metadata": {},
   "outputs": [],
   "source": [
    "for c in columns[:-1]:\n",
    "    df[c] = df[c].astype('float64')\n",
    "df['label'] = df['label'].astype(str)"
   ]
  },
  {
   "cell_type": "code",
   "execution_count": null,
   "metadata": {},
   "outputs": [],
   "source": [
    "df.head()"
   ]
  },
  {
   "cell_type": "code",
   "execution_count": null,
   "metadata": {},
   "outputs": [],
   "source": [
    "df.info()"
   ]
  },
  {
   "cell_type": "code",
   "execution_count": null,
   "metadata": {},
   "outputs": [],
   "source": [
    "df.to_parquet('new_image_dataset_36pixels.parquet', index=False, engine='fastparquet')"
   ]
  },
  {
   "cell_type": "markdown",
   "metadata": {},
   "source": [
    "Run from here "
   ]
  },
  {
   "cell_type": "code",
   "execution_count": null,
   "metadata": {},
   "outputs": [],
   "source": [
    "df = pd.read_parquet('new_image_dataset_36pixels.parquet')"
   ]
  },
  {
   "cell_type": "code",
   "execution_count": null,
   "metadata": {},
   "outputs": [],
   "source": [
    "df.head()"
   ]
  },
  {
   "cell_type": "code",
   "execution_count": null,
   "metadata": {},
   "outputs": [],
   "source": [
    "models = pd.read_csv('newmodels_choice.csv') # used lazypredict to choice the preferred model \n",
    "models.head()"
   ]
  },
  {
   "cell_type": "code",
   "execution_count": null,
   "metadata": {},
   "outputs": [],
   "source": [
    "df['label'].value_counts()"
   ]
  },
  {
   "cell_type": "markdown",
   "metadata": {},
   "source": [
    "data is pretty imbalanced so we need oversampling"
   ]
  },
  {
   "cell_type": "code",
   "execution_count": null,
   "metadata": {},
   "outputs": [],
   "source": [
    "X = df.drop('label', axis=1)\n",
    "y = df['label']"
   ]
  },
  {
   "cell_type": "code",
   "execution_count": null,
   "metadata": {},
   "outputs": [],
   "source": [
    "import seaborn as sns\n",
    "sns.histplot(y)"
   ]
  },
  {
   "cell_type": "code",
   "execution_count": null,
   "metadata": {},
   "outputs": [],
   "source": [
    "from imblearn.over_sampling import RandomOverSampler\n",
    "roversamp = RandomOverSampler()\n",
    "newX, newY = roversamp.fit_resample(X, y)"
   ]
  },
  {
   "cell_type": "code",
   "execution_count": null,
   "metadata": {},
   "outputs": [],
   "source": [
    "newY.value_counts()"
   ]
  },
  {
   "cell_type": "code",
   "execution_count": null,
   "metadata": {},
   "outputs": [],
   "source": [
    "import seaborn as sns\n",
    "sns.histplot(newY);"
   ]
  },
  {
   "cell_type": "code",
   "execution_count": null,
   "metadata": {},
   "outputs": [],
   "source": [
    "newY = newY.replace({'Hatchback':0, 'Pickup':1, 'Seden':2, 'SUV':3})\n",
    "newY.value_counts()"
   ]
  },
  {
   "cell_type": "code",
   "execution_count": null,
   "metadata": {},
   "outputs": [],
   "source": [
    "nX_train, nX_test, ny_train, ny_test = train_test_split(newX, newY, test_size=0.3, random_state=42)"
   ]
  },
  {
   "cell_type": "code",
   "execution_count": null,
   "metadata": {},
   "outputs": [],
   "source": [
    "from sklearn.svm import SVC\n",
    "clf = SVC(decision_function_shape='ovo', probability=True)\n",
    "clf.fit(nX_train, ny_train)\n",
    "ny_pred = clf.predict(nX_test)"
   ]
  },
  {
   "cell_type": "code",
   "execution_count": null,
   "metadata": {},
   "outputs": [],
   "source": [
    "print(f'Training Accuracy: {clf.score(nX_train, ny_train)*100:.2f}%')\n",
    "print(f'Testing Accuracy: {clf.score(nX_test, ny_test)*100:.2f}%')"
   ]
  },
  {
   "cell_type": "code",
   "execution_count": null,
   "metadata": {},
   "outputs": [],
   "source": [
    "ConfusionMatrixDisplay(confusion_matrix(ny_test, ny_pred)).plot()"
   ]
  },
  {
   "cell_type": "code",
   "execution_count": null,
   "metadata": {},
   "outputs": [],
   "source": [
    "print(classification_report(ny_test, ny_pred))"
   ]
  },
  {
   "cell_type": "code",
   "execution_count": null,
   "metadata": {},
   "outputs": [],
   "source": [
    "# save model\n",
    "import skops.io as sio \n",
    "sio.dump(clf, 'car_detection_model_svc_balanced.skops')"
   ]
  },
  {
   "cell_type": "markdown",
   "metadata": {},
   "source": [
    "testing images"
   ]
  },
  {
   "cell_type": "code",
   "execution_count": null,
   "metadata": {},
   "outputs": [],
   "source": [
    "imagepath = 'test_image/Hatchback/PHOTO_342.jpg'\n",
    "image = Image.open(imagepath).convert(\"L\")\n",
    "resized_image = image.resize((36,36), Image.ADAPTIVE)\n",
    "pixel_values = np.array(resized_image)\n",
    "plt.imshow(pixel_values, cmap='gray')"
   ]
  },
  {
   "cell_type": "code",
   "execution_count": null,
   "metadata": {},
   "outputs": [],
   "source": [
    "columns = [f'pixel_{i}' for i in range(1296)]"
   ]
  },
  {
   "cell_type": "code",
   "execution_count": null,
   "metadata": {},
   "outputs": [],
   "source": [
    "normalized_pixel_values = (pixel_values).reshape(-1) / 255\n",
    "len(normalized_pixel_values)"
   ]
  },
  {
   "cell_type": "code",
   "execution_count": null,
   "metadata": {},
   "outputs": [],
   "source": [
    "ndf = pd.DataFrame([normalized_pixel_values], columns=columns)"
   ]
  },
  {
   "cell_type": "markdown",
   "metadata": {},
   "source": [
    "'Hatchback':0, 'Pickup':1, 'Seden':2, 'SUV':3"
   ]
  },
  {
   "cell_type": "code",
   "execution_count": null,
   "metadata": {},
   "outputs": [],
   "source": [
    "clf.predict(ndf)"
   ]
  },
  {
   "cell_type": "code",
   "execution_count": null,
   "metadata": {},
   "outputs": [],
   "source": [
    "imagepath = 'test_image/Pickup/PHOTO_342.jpg'\n",
    "image = Image.open(imagepath).convert(\"L\")\n",
    "resized_image = image.resize((36,36), Image.ADAPTIVE)\n",
    "pixel_values = np.array(resized_image)\n",
    "plt.imshow(pixel_values, cmap='gray')"
   ]
  },
  {
   "cell_type": "code",
   "execution_count": null,
   "metadata": {},
   "outputs": [],
   "source": [
    "normalized_pixel_values = (pixel_values).reshape(-1) / 255\n",
    "ndf = pd.DataFrame([normalized_pixel_values], columns=columns)"
   ]
  },
  {
   "cell_type": "markdown",
   "metadata": {},
   "source": [
    "'Hatchback':0, 'Pickup':1, 'Seden':2, 'SUV':3"
   ]
  },
  {
   "cell_type": "code",
   "execution_count": null,
   "metadata": {},
   "outputs": [],
   "source": [
    "clf.predict(ndf)"
   ]
  },
  {
   "cell_type": "code",
   "execution_count": null,
   "metadata": {},
   "outputs": [],
   "source": [
    "imagepath = 'test_image/Seden/PHOTO_548.jpg'\n",
    "image = Image.open(imagepath).convert(\"L\")\n",
    "resized_image = image.resize((36,36), Image.ADAPTIVE)\n",
    "pixel_values = np.array(resized_image)\n",
    "plt.imshow(pixel_values, cmap='gray')"
   ]
  },
  {
   "cell_type": "code",
   "execution_count": null,
   "metadata": {},
   "outputs": [],
   "source": [
    "normalized_pixel_values = (pixel_values).reshape(-1) / 255\n",
    "ndf = pd.DataFrame([normalized_pixel_values], columns=columns)"
   ]
  },
  {
   "cell_type": "markdown",
   "metadata": {},
   "source": [
    "'Hatchback':0, 'Pickup':1, 'Seden':2, 'SUV':3"
   ]
  },
  {
   "cell_type": "code",
   "execution_count": null,
   "metadata": {},
   "outputs": [],
   "source": [
    "clf.predict(ndf)"
   ]
  },
  {
   "cell_type": "code",
   "execution_count": null,
   "metadata": {},
   "outputs": [],
   "source": [
    "imagepath = 'test_image/SUV/PHOTO_123.jpg'\n",
    "image = Image.open(imagepath).convert(\"L\")\n",
    "resized_image = image.resize((36,36), Image.ADAPTIVE)\n",
    "pixel_values = np.array(resized_image)\n",
    "plt.imshow(pixel_values, cmap='gray')"
   ]
  },
  {
   "cell_type": "code",
   "execution_count": null,
   "metadata": {},
   "outputs": [],
   "source": [
    "normalized_pixel_values = (pixel_values).reshape(-1) / 255\n",
    "ndf = pd.DataFrame([normalized_pixel_values], columns=columns)"
   ]
  },
  {
   "cell_type": "code",
   "execution_count": null,
   "metadata": {},
   "outputs": [],
   "source": [
    "clf.predict(ndf)"
   ]
  },
  {
   "cell_type": "code",
   "execution_count": null,
   "metadata": {},
   "outputs": [],
   "source": [
    "imagepath = 'checks/pickup.jpg'\n",
    "image = Image.open(imagepath).convert(\"L\")\n",
    "resized_image = image.resize((36,36), Image.ADAPTIVE)\n",
    "pixel_values = np.array(resized_image)\n",
    "plt.imshow(pixel_values, cmap='gray')"
   ]
  },
  {
   "cell_type": "code",
   "execution_count": null,
   "metadata": {},
   "outputs": [],
   "source": [
    "normalized_pixel_values = (pixel_values).reshape(-1) / 255\n",
    "ndf = pd.DataFrame([normalized_pixel_values], columns=columns)"
   ]
  },
  {
   "cell_type": "markdown",
   "metadata": {},
   "source": [
    "'Hatchback':0, 'Pickup':1, 'Seden':2, 'SUV':3"
   ]
  },
  {
   "cell_type": "code",
   "execution_count": null,
   "metadata": {},
   "outputs": [],
   "source": [
    "clf.predict(ndf)"
   ]
  },
  {
   "cell_type": "code",
   "execution_count": null,
   "metadata": {},
   "outputs": [],
   "source": [
    "imagepath = 'pickup2.jpg'\n",
    "image = Image.open(imagepath).convert(\"L\")\n",
    "resized_image = image.resize((36,36), Image.ADAPTIVE)\n",
    "pixel_values = np.array(resized_image)\n",
    "plt.imshow(pixel_values, cmap='gray')"
   ]
  },
  {
   "cell_type": "code",
   "execution_count": null,
   "metadata": {},
   "outputs": [],
   "source": [
    "normalized_pixel_values = (pixel_values).reshape(-1) / 255\n",
    "ndf = pd.DataFrame([normalized_pixel_values], columns=columns)"
   ]
  },
  {
   "cell_type": "markdown",
   "metadata": {},
   "source": [
    "'Hatchback':0, 'Pickup':1, 'Seden':2, 'SUV':3"
   ]
  },
  {
   "cell_type": "code",
   "execution_count": null,
   "metadata": {},
   "outputs": [],
   "source": [
    "clf.predict(ndf)"
   ]
  },
  {
   "cell_type": "code",
   "execution_count": null,
   "metadata": {},
   "outputs": [],
   "source": [
    "imagepath = 'checks/sedan.jpg'\n",
    "image = Image.open(imagepath).convert(\"L\")\n",
    "resized_image = image.resize((36,36), Image.ADAPTIVE)\n",
    "pixel_values = np.array(resized_image)\n",
    "plt.imshow(pixel_values, cmap='gray')"
   ]
  },
  {
   "cell_type": "code",
   "execution_count": null,
   "metadata": {},
   "outputs": [],
   "source": [
    "normalized_pixel_values = (pixel_values).reshape(-1) / 255\n",
    "ndf = pd.DataFrame([normalized_pixel_values], columns=columns)"
   ]
  },
  {
   "cell_type": "markdown",
   "metadata": {},
   "source": [
    "'Hatchback':0, 'Pickup':1, 'Seden':2, 'SUV':3"
   ]
  },
  {
   "cell_type": "code",
   "execution_count": null,
   "metadata": {},
   "outputs": [],
   "source": [
    "clf.predict(ndf)"
   ]
  },
  {
   "cell_type": "code",
   "execution_count": null,
   "metadata": {},
   "outputs": [],
   "source": [
    "imagepath = 'checks/sedan2.jpg'\n",
    "image = Image.open(imagepath).convert(\"L\")\n",
    "resized_image = image.resize((36,36), Image.ADAPTIVE)\n",
    "pixel_values = np.array(resized_image)\n",
    "plt.imshow(pixel_values, cmap='gray')"
   ]
  },
  {
   "cell_type": "code",
   "execution_count": null,
   "metadata": {},
   "outputs": [],
   "source": [
    "normalized_pixel_values = (pixel_values).reshape(-1) / 255\n",
    "ndf = pd.DataFrame([normalized_pixel_values], columns=columns)"
   ]
  },
  {
   "cell_type": "markdown",
   "metadata": {},
   "source": [
    "'Hatchback':0, 'Pickup':1, 'Seden':2, 'SUV':3"
   ]
  },
  {
   "cell_type": "code",
   "execution_count": null,
   "metadata": {},
   "outputs": [],
   "source": [
    "clf.predict(ndf)"
   ]
  },
  {
   "cell_type": "code",
   "execution_count": null,
   "metadata": {},
   "outputs": [],
   "source": [
    "imagepath = 'suv.jpg'\n",
    "image = Image.open(imagepath).convert(\"L\")\n",
    "resized_image = image.resize((36,36), Image.ADAPTIVE)\n",
    "pixel_values = np.array(resized_image)\n",
    "plt.imshow(pixel_values, cmap='gray')"
   ]
  },
  {
   "cell_type": "code",
   "execution_count": null,
   "metadata": {},
   "outputs": [],
   "source": [
    "normalized_pixel_values = (pixel_values).reshape(-1) / 255\n",
    "ndf = pd.DataFrame([normalized_pixel_values], columns=columns)"
   ]
  },
  {
   "cell_type": "markdown",
   "metadata": {},
   "source": [
    "'Hatchback':0, 'Pickup':1, 'Seden':2, 'SUV':3"
   ]
  },
  {
   "cell_type": "code",
   "execution_count": null,
   "metadata": {},
   "outputs": [],
   "source": [
    "clf.predict(ndf)"
   ]
  },
  {
   "cell_type": "code",
   "execution_count": null,
   "metadata": {},
   "outputs": [],
   "source": [
    "imagepath = 'unknown.jpg'\n",
    "image = Image.open(imagepath).convert(\"L\")\n",
    "resized_image = image.resize((36,36), Image.ADAPTIVE)\n",
    "pixel_values = np.array(resized_image)\n",
    "plt.imshow(pixel_values, cmap='gray')"
   ]
  },
  {
   "cell_type": "code",
   "execution_count": null,
   "metadata": {},
   "outputs": [],
   "source": [
    "normalized_pixel_values = (pixel_values).reshape(-1) / 255\n",
    "ndf = pd.DataFrame([normalized_pixel_values], columns=columns)"
   ]
  },
  {
   "cell_type": "markdown",
   "metadata": {},
   "source": [
    "'Hatchback':0, 'Pickup':1, 'Seden':2, 'SUV':3"
   ]
  },
  {
   "cell_type": "code",
   "execution_count": null,
   "metadata": {},
   "outputs": [],
   "source": [
    "clf.predict(ndf)"
   ]
  },
  {
   "cell_type": "code",
   "execution_count": null,
   "metadata": {},
   "outputs": [],
   "source": [
    "import skops.io as sio \n",
    "from PIL import Image\n",
    "import numpy as np \n",
    "import matplotlib.pyplot as plt \n",
    "import pandas as pd\n",
    "columns = [f'pixel_{i}' for i in range(1296)]\n",
    "clf = sio.load('/home/anuraaga/Documents/Projects/Project-PredthePrice/docker/models/car_detection_model_svc.skops', trusted=True)"
   ]
  },
  {
   "cell_type": "code",
   "execution_count": null,
   "metadata": {},
   "outputs": [],
   "source": [
    "imagepath = 'sedan3.jpg'\n",
    "image = Image.open(imagepath).convert(\"L\")\n",
    "resized_image = image.resize((36,36), Image.ADAPTIVE)\n",
    "pixel_values = np.array(resized_image)\n",
    "plt.imshow(pixel_values, cmap='gray')"
   ]
  },
  {
   "cell_type": "code",
   "execution_count": null,
   "metadata": {},
   "outputs": [],
   "source": [
    "normalized_pixel_values = (pixel_values).reshape(-1) / 255\n",
    "ndf = pd.DataFrame([normalized_pixel_values], columns=columns)"
   ]
  },
  {
   "cell_type": "markdown",
   "metadata": {},
   "source": [
    "'Hatchback':0, 'Pickup':1, 'Seden':2, 'SUV':3"
   ]
  },
  {
   "cell_type": "code",
   "execution_count": null,
   "metadata": {},
   "outputs": [],
   "source": [
    "clf.predict_proba(ndf)"
   ]
  },
  {
   "cell_type": "code",
   "execution_count": null,
   "metadata": {},
   "outputs": [],
   "source": [
    "imagepath = 'unknown2.jpg'\n",
    "image = Image.open(imagepath).convert(\"L\")\n",
    "resized_image = image.resize((36,36), Image.ADAPTIVE)\n",
    "pixel_values = np.array(resized_image)\n",
    "plt.imshow(pixel_values, cmap='gray')"
   ]
  },
  {
   "cell_type": "code",
   "execution_count": null,
   "metadata": {},
   "outputs": [],
   "source": [
    "normalized_pixel_values = (pixel_values).reshape(-1) / 255\n",
    "ndf = pd.DataFrame([normalized_pixel_values], columns=columns)"
   ]
  },
  {
   "cell_type": "markdown",
   "metadata": {},
   "source": [
    "'Hatchback':0, 'Pickup':1, 'Seden':2, 'SUV':3"
   ]
  },
  {
   "cell_type": "code",
   "execution_count": null,
   "metadata": {},
   "outputs": [],
   "source": [
    "clf.predict(ndf)"
   ]
  },
  {
   "cell_type": "code",
   "execution_count": null,
   "metadata": {},
   "outputs": [],
   "source": [
    "clf.predict_proba(ndf)"
   ]
  },
  {
   "cell_type": "code",
   "execution_count": null,
   "metadata": {},
   "outputs": [],
   "source": [
    "imagepath = 'unknown3.jpg'\n",
    "image = Image.open(imagepath).convert(\"L\")\n",
    "resized_image = image.resize((36,36), Image.ADAPTIVE)\n",
    "pixel_values = np.array(resized_image)\n",
    "plt.imshow(pixel_values, cmap='gray')"
   ]
  },
  {
   "cell_type": "code",
   "execution_count": null,
   "metadata": {},
   "outputs": [],
   "source": [
    "normalized_pixel_values = (pixel_values).reshape(-1) / 255\n",
    "ndf = pd.DataFrame([normalized_pixel_values], columns=columns)"
   ]
  },
  {
   "cell_type": "markdown",
   "metadata": {},
   "source": [
    "'Hatchback':0, 'Pickup':1, 'Seden':2, 'SUV':3"
   ]
  },
  {
   "cell_type": "code",
   "execution_count": null,
   "metadata": {},
   "outputs": [],
   "source": [
    "clf.predict(ndf)"
   ]
  },
  {
   "cell_type": "code",
   "execution_count": null,
   "metadata": {},
   "outputs": [],
   "source": [
    "clf.predict_proba(ndf)"
   ]
  },
  {
   "cell_type": "code",
   "execution_count": null,
   "metadata": {},
   "outputs": [],
   "source": [
    "imagepath = 'unknown4.jpg'\n",
    "image = Image.open(imagepath).convert(\"L\")\n",
    "resized_image = image.resize((36,36), Image.ADAPTIVE)\n",
    "pixel_values = np.array(resized_image)\n",
    "plt.imshow(pixel_values, cmap='gray')"
   ]
  },
  {
   "cell_type": "code",
   "execution_count": null,
   "metadata": {},
   "outputs": [],
   "source": [
    "normalized_pixel_values = (pixel_values).reshape(-1) / 255\n",
    "ndf = pd.DataFrame([normalized_pixel_values], columns=columns)"
   ]
  },
  {
   "cell_type": "markdown",
   "metadata": {},
   "source": [
    "'Hatchback':0, 'Pickup':1, 'Seden':2, 'SUV':3"
   ]
  },
  {
   "cell_type": "code",
   "execution_count": null,
   "metadata": {},
   "outputs": [],
   "source": [
    "clf.predict(ndf)"
   ]
  },
  {
   "cell_type": "code",
   "execution_count": null,
   "metadata": {},
   "outputs": [],
   "source": [
    "clf.predict_proba(ndf)"
   ]
  },
  {
   "cell_type": "code",
   "execution_count": null,
   "metadata": {},
   "outputs": [],
   "source": [
    "imagepath = 'unknown6.jpg'\n",
    "image = Image.open(imagepath).convert(\"L\")\n",
    "resized_image = image.resize((36,36), Image.ADAPTIVE)\n",
    "pixel_values = np.array(resized_image)\n",
    "plt.imshow(pixel_values, cmap='gray')"
   ]
  },
  {
   "cell_type": "code",
   "execution_count": null,
   "metadata": {},
   "outputs": [],
   "source": [
    "normalized_pixel_values = (pixel_values).reshape(-1) / 255\n",
    "ndf = pd.DataFrame([normalized_pixel_values], columns=columns)"
   ]
  },
  {
   "cell_type": "markdown",
   "metadata": {},
   "source": [
    "'Hatchback':0, 'Pickup':1, 'Seden':2, 'SUV':3"
   ]
  },
  {
   "cell_type": "code",
   "execution_count": null,
   "metadata": {},
   "outputs": [],
   "source": [
    "clf.predict(ndf)"
   ]
  }
 ],
 "metadata": {
  "kernelspec": {
   "display_name": "train_image",
   "language": "python",
   "name": "python3"
  },
  "language_info": {
   "codemirror_mode": {
    "name": "ipython",
    "version": 3
   },
   "file_extension": ".py",
   "mimetype": "text/x-python",
   "name": "python",
   "nbconvert_exporter": "python",
   "pygments_lexer": "ipython3",
   "version": "3.11.7"
  }
 },
 "nbformat": 4,
 "nbformat_minor": 2
}
