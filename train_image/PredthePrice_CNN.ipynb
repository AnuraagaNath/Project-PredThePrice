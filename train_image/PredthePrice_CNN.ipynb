{
  "nbformat": 4,
  "nbformat_minor": 0,
  "metadata": {
    "colab": {
      "provenance": [],
      "gpuType": "T4"
    },
    "kernelspec": {
      "name": "python3",
      "display_name": "Python 3"
    },
    "language_info": {
      "name": "python"
    },
    "accelerator": "GPU"
  },
  "cells": [
    {
      "cell_type": "code",
      "source": [
        "from google.colab import drive\n",
        "drive.mount('/content/drive')"
      ],
      "metadata": {
        "colab": {
          "base_uri": "https://localhost:8080/"
        },
        "id": "DCliSPzlngQH",
        "outputId": "11fd9efe-4296-4711-9142-a415f88bf458"
      },
      "execution_count": null,
      "outputs": [
        {
          "output_type": "stream",
          "name": "stdout",
          "text": [
            "Mounted at /content/drive\n"
          ]
        }
      ]
    },
    {
      "cell_type": "code",
      "execution_count": null,
      "metadata": {
        "id": "0oDb_9BoEmSG"
      },
      "outputs": [],
      "source": [
        "# imports\n",
        "from glob import glob\n",
        "import os\n",
        "import cv2\n",
        "import numpy as np\n",
        "from sklearn.model_selection import train_test_split\n",
        "from sklearn.preprocessing import LabelEncoder\n",
        "from tensorflow.keras import models, layers, metrics, losses, regularizers"
      ]
    },
    {
      "cell_type": "code",
      "source": [
        "folders= glob('/content/drive/MyDrive/DataCodes/Deep Learning/datasets/test_image/*')\n",
        "folders"
      ],
      "metadata": {
        "colab": {
          "base_uri": "https://localhost:8080/"
        },
        "id": "-RzsuqPzpKGp",
        "outputId": "64d366d6-5da1-4000-a744-494e276832d7"
      },
      "execution_count": null,
      "outputs": [
        {
          "output_type": "execute_result",
          "data": {
            "text/plain": [
              "['/content/drive/MyDrive/DataCodes/Deep Learning/datasets/test_image/Pickup',\n",
              " '/content/drive/MyDrive/DataCodes/Deep Learning/datasets/test_image/Seden',\n",
              " '/content/drive/MyDrive/DataCodes/Deep Learning/datasets/test_image/SUV',\n",
              " '/content/drive/MyDrive/DataCodes/Deep Learning/datasets/test_image/Hatchback']"
            ]
          },
          "metadata": {},
          "execution_count": 12
        }
      ]
    },
    {
      "cell_type": "code",
      "source": [
        "img = cv2.imread(glob(folders[0] + \"/*.jpg\")[0], 0)\n",
        "img"
      ],
      "metadata": {
        "colab": {
          "base_uri": "https://localhost:8080/",
          "height": 146
        },
        "id": "OaA3iRQephiW",
        "outputId": "d3347b4d-6c82-4432-b790-6498a4386f09"
      },
      "execution_count": null,
      "outputs": [
        {
          "output_type": "execute_result",
          "data": {
            "text/plain": [
              "array([[154, 149, 146, ..., 250, 250, 250],\n",
              "       [147, 131, 139, ..., 250, 250, 250],\n",
              "       [127, 117, 121, ..., 251, 251, 251],\n",
              "       ...,\n",
              "       [176, 193, 207, ..., 106, 106, 106],\n",
              "       [173, 174, 179, ..., 106, 106, 106],\n",
              "       [154, 155, 159, ..., 106, 106, 106]], dtype=uint8)"
            ],
            "text/html": [
              "<style>\n",
              "      .ndarray_repr .ndarray_raw_data {\n",
              "        display: none;\n",
              "      }\n",
              "      .ndarray_repr.show_array .ndarray_raw_data {\n",
              "        display: block;\n",
              "      }\n",
              "      .ndarray_repr.show_array .ndarray_image_preview {\n",
              "        display: none;\n",
              "      }\n",
              "      </style>\n",
              "      <div id=\"id-b16d20bf-203b-497d-ba09-6a4c3b6cb4b5\" class=\"ndarray_repr\"><pre>ndarray (107, 119) <button style=\"padding: 0 2px;\">show data</button></pre><img src=\"data:image/png;base64,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\" class=\"ndarray_image_preview\" /><pre class=\"ndarray_raw_data\">array([[154, 149, 146, ..., 250, 250, 250],\n",
              "       [147, 131, 139, ..., 250, 250, 250],\n",
              "       [127, 117, 121, ..., 251, 251, 251],\n",
              "       ...,\n",
              "       [176, 193, 207, ..., 106, 106, 106],\n",
              "       [173, 174, 179, ..., 106, 106, 106],\n",
              "       [154, 155, 159, ..., 106, 106, 106]], dtype=uint8)</pre></div><script>\n",
              "      (() => {\n",
              "      const titles = ['show data', 'hide data'];\n",
              "      let index = 0\n",
              "      document.querySelector('#id-b16d20bf-203b-497d-ba09-6a4c3b6cb4b5 button').onclick = (e) => {\n",
              "        document.querySelector('#id-b16d20bf-203b-497d-ba09-6a4c3b6cb4b5').classList.toggle('show_array');\n",
              "        index = (++index) % 2;\n",
              "        document.querySelector('#id-b16d20bf-203b-497d-ba09-6a4c3b6cb4b5 button').textContent = titles[index];\n",
              "        e.preventDefault();\n",
              "        e.stopPropagation();\n",
              "      }\n",
              "      })();\n",
              "    </script>"
            ]
          },
          "metadata": {},
          "execution_count": 4
        }
      ]
    },
    {
      "cell_type": "code",
      "source": [
        "def imgtoarr(path):\n",
        "    img = cv2.imread(path, 0)\n",
        "    img = cv2.resize(img, (64, 64))\n",
        "    img_array = np.expand_dims(img, axis=-1)\n",
        "    return img_array, img_array.reshape(1, 64, 64, 1)"
      ],
      "metadata": {
        "id": "EctHdqfNqqAd"
      },
      "execution_count": null,
      "outputs": []
    },
    {
      "cell_type": "code",
      "source": [
        "X = list()\n",
        "y = list()\n",
        "for folder in folders:\n",
        "    images = glob(folder + '/*.jpg')\n",
        "    for image in images:\n",
        "        img_array, _ = imgtoarr(image)\n",
        "        X.append(img_array)\n",
        "        label = folder.split('/')[-1]\n",
        "        y.append(label)"
      ],
      "metadata": {
        "id": "RaPmODbSBoZy"
      },
      "execution_count": null,
      "outputs": []
    },
    {
      "cell_type": "code",
      "source": [
        "from imblearn.over_sampling import SMOTE\n",
        "smote = SMOTE(random_state=0, sampling_strategy='minority')\n",
        "\n",
        "X = np.array(X)\n",
        "\n",
        "X_resampled, y_resampled = smote.fit_resample(X.reshape(X.shape[0], -1), y)\n",
        "\n",
        "X_resampled = X_resampled.reshape(X_resampled.shape[0], 64, 64, 1)\n",
        "\n",
        "\n",
        "X_train, X_test, y_train, y_test = train_test_split(X_resampled, y_resampled, test_size=0.2, random_state=0, stratify=y_resampled)"
      ],
      "metadata": {
        "id": "0L-7seW7GRZj"
      },
      "execution_count": null,
      "outputs": []
    },
    {
      "cell_type": "code",
      "source": [
        "encoder = LabelEncoder()\n",
        "y_train = encoder.fit_transform(y_train)\n",
        "y_test = encoder.transform(y_test)"
      ],
      "metadata": {
        "id": "S5CHi5-L0FFS"
      },
      "execution_count": null,
      "outputs": []
    },
    {
      "cell_type": "code",
      "source": [
        "X_train.shape"
      ],
      "metadata": {
        "colab": {
          "base_uri": "https://localhost:8080/"
        },
        "id": "sc7W0FPd3gOs",
        "outputId": "f36796e9-3257-47d3-ef1c-8423bf51362b"
      },
      "execution_count": null,
      "outputs": [
        {
          "output_type": "execute_result",
          "data": {
            "text/plain": [
              "(4232, 64, 64, 1)"
            ]
          },
          "metadata": {},
          "execution_count": 17
        }
      ]
    },
    {
      "cell_type": "code",
      "source": [
        "# initialization\n",
        "model = models.Sequential()\n",
        "\n",
        "# first layer\n",
        "model.add(layers.Conv2D(filters=64, kernel_size=(3, 3), activation='relu', input_shape=(64, 64, 1)))\n",
        "model.add(layers.BatchNormalization())\n",
        "\n",
        "\n",
        "# maxpooling\n",
        "model.add(layers.MaxPooling2D(pool_size=(2,2)))\n",
        "\n",
        "# second layer\n",
        "model.add(layers.Conv2D(filters=128, kernel_size=(3, 3), activation='relu'))\n",
        "model.add(layers.BatchNormalization())\n",
        "\n",
        "# maxpooling\n",
        "model.add(layers.MaxPooling2D(pool_size=(2,2)))\n",
        "\n",
        "# third layer\n",
        "model.add(layers.Conv2D(filters=256, kernel_size=(3, 3), activation='relu'))\n",
        "model.add(layers.BatchNormalization())\n",
        "\n",
        "# maxpooling\n",
        "model.add(layers.MaxPooling2D(pool_size=(2,2)))\n",
        "\n",
        "# # fourth layer\n",
        "# model.add(layers.Conv2D(filters=64, kernel_size=(3, 3), activation='relu'))\n",
        "# model.add(layers.BatchNormalization())\n",
        "\n",
        "# # maxpooling\n",
        "# model.add(layers.MaxPooling2D(pool_size=(2,2)))\n",
        "\n",
        "# flatten\n",
        "model.add(layers.Flatten())\n",
        "\n",
        "# dense layer with dropout\n",
        "model.add(layers.Dense(128, activation='relu'))\n",
        "model.add(layers.Dropout(0.5))\n",
        "\n",
        "# output layer\n",
        "model.add(layers.Dense(4, activation='softmax'))\n",
        "\n",
        "model.summary()"
      ],
      "metadata": {
        "colab": {
          "base_uri": "https://localhost:8080/"
        },
        "id": "7O_rhPczuv_x",
        "outputId": "ea4b9116-3318-4c01-9914-7e455baa5757"
      },
      "execution_count": null,
      "outputs": [
        {
          "output_type": "stream",
          "name": "stdout",
          "text": [
            "Model: \"sequential\"\n",
            "_________________________________________________________________\n",
            " Layer (type)                Output Shape              Param #   \n",
            "=================================================================\n",
            " conv2d (Conv2D)             (None, 62, 62, 64)        640       \n",
            "                                                                 \n",
            " batch_normalization (Batch  (None, 62, 62, 64)        256       \n",
            " Normalization)                                                  \n",
            "                                                                 \n",
            " max_pooling2d (MaxPooling2  (None, 31, 31, 64)        0         \n",
            " D)                                                              \n",
            "                                                                 \n",
            " conv2d_1 (Conv2D)           (None, 29, 29, 128)       73856     \n",
            "                                                                 \n",
            " batch_normalization_1 (Bat  (None, 29, 29, 128)       512       \n",
            " chNormalization)                                                \n",
            "                                                                 \n",
            " max_pooling2d_1 (MaxPoolin  (None, 14, 14, 128)       0         \n",
            " g2D)                                                            \n",
            "                                                                 \n",
            " conv2d_2 (Conv2D)           (None, 12, 12, 256)       295168    \n",
            "                                                                 \n",
            " batch_normalization_2 (Bat  (None, 12, 12, 256)       1024      \n",
            " chNormalization)                                                \n",
            "                                                                 \n",
            " max_pooling2d_2 (MaxPoolin  (None, 6, 6, 256)         0         \n",
            " g2D)                                                            \n",
            "                                                                 \n",
            " flatten (Flatten)           (None, 9216)              0         \n",
            "                                                                 \n",
            " dense (Dense)               (None, 128)               1179776   \n",
            "                                                                 \n",
            " dropout (Dropout)           (None, 128)               0         \n",
            "                                                                 \n",
            " dense_1 (Dense)             (None, 4)                 516       \n",
            "                                                                 \n",
            "=================================================================\n",
            "Total params: 1551748 (5.92 MB)\n",
            "Trainable params: 1550852 (5.92 MB)\n",
            "Non-trainable params: 896 (3.50 KB)\n",
            "_________________________________________________________________\n"
          ]
        }
      ]
    },
    {
      "cell_type": "code",
      "source": [
        "model.compile(optimizer='adam',\n",
        "              loss=losses.SparseCategoricalCrossentropy(from_logits=False),\n",
        "              metrics=['accuracy'])"
      ],
      "metadata": {
        "id": "EbDwT86520_f"
      },
      "execution_count": null,
      "outputs": []
    },
    {
      "cell_type": "code",
      "source": [
        "history = model.fit(X_train, y_train, epochs=100, batch_size=512, validation_split=0.2)"
      ],
      "metadata": {
        "colab": {
          "base_uri": "https://localhost:8080/"
        },
        "id": "O528Aaan23aD",
        "outputId": "52919020-ce87-4631-fe09-ee6ef29e1350"
      },
      "execution_count": null,
      "outputs": [
        {
          "output_type": "stream",
          "name": "stdout",
          "text": [
            "Epoch 1/100\n",
            "7/7 [==============================] - 17s 770ms/step - loss: 2.1706 - accuracy: 0.5028 - val_loss: 71.7310 - val_accuracy: 0.3188\n",
            "Epoch 2/100\n",
            "7/7 [==============================] - 1s 136ms/step - loss: 0.7541 - accuracy: 0.6975 - val_loss: 58.5367 - val_accuracy: 0.3188\n",
            "Epoch 3/100\n",
            "7/7 [==============================] - 1s 136ms/step - loss: 0.5605 - accuracy: 0.7681 - val_loss: 54.1045 - val_accuracy: 0.3188\n",
            "Epoch 4/100\n",
            "7/7 [==============================] - 1s 136ms/step - loss: 0.4301 - accuracy: 0.8210 - val_loss: 33.5213 - val_accuracy: 0.3188\n",
            "Epoch 5/100\n",
            "7/7 [==============================] - 1s 138ms/step - loss: 0.3450 - accuracy: 0.8582 - val_loss: 24.3452 - val_accuracy: 0.3188\n",
            "Epoch 6/100\n",
            "7/7 [==============================] - 1s 138ms/step - loss: 0.2714 - accuracy: 0.8904 - val_loss: 21.6694 - val_accuracy: 0.3188\n",
            "Epoch 7/100\n",
            "7/7 [==============================] - 1s 153ms/step - loss: 0.2164 - accuracy: 0.9158 - val_loss: 17.6019 - val_accuracy: 0.3188\n",
            "Epoch 8/100\n",
            "7/7 [==============================] - 1s 143ms/step - loss: 0.1706 - accuracy: 0.9338 - val_loss: 12.5546 - val_accuracy: 0.3200\n",
            "Epoch 9/100\n",
            "7/7 [==============================] - 1s 157ms/step - loss: 0.1335 - accuracy: 0.9471 - val_loss: 9.2290 - val_accuracy: 0.3270\n",
            "Epoch 10/100\n",
            "7/7 [==============================] - 1s 136ms/step - loss: 0.1122 - accuracy: 0.9586 - val_loss: 6.5798 - val_accuracy: 0.3672\n",
            "Epoch 11/100\n",
            "7/7 [==============================] - 1s 137ms/step - loss: 0.0896 - accuracy: 0.9669 - val_loss: 3.7170 - val_accuracy: 0.4687\n",
            "Epoch 12/100\n",
            "7/7 [==============================] - 1s 135ms/step - loss: 0.0761 - accuracy: 0.9713 - val_loss: 2.6284 - val_accuracy: 0.5466\n",
            "Epoch 13/100\n",
            "7/7 [==============================] - 1s 135ms/step - loss: 0.0682 - accuracy: 0.9784 - val_loss: 2.0909 - val_accuracy: 0.5844\n",
            "Epoch 14/100\n",
            "7/7 [==============================] - 1s 135ms/step - loss: 0.0472 - accuracy: 0.9846 - val_loss: 1.2490 - val_accuracy: 0.6919\n",
            "Epoch 15/100\n",
            "7/7 [==============================] - 1s 135ms/step - loss: 0.0436 - accuracy: 0.9832 - val_loss: 0.7240 - val_accuracy: 0.7875\n",
            "Epoch 16/100\n",
            "7/7 [==============================] - 1s 136ms/step - loss: 0.0356 - accuracy: 0.9891 - val_loss: 0.3739 - val_accuracy: 0.8808\n",
            "Epoch 17/100\n",
            "7/7 [==============================] - 1s 137ms/step - loss: 0.0339 - accuracy: 0.9897 - val_loss: 0.5379 - val_accuracy: 0.8654\n",
            "Epoch 18/100\n",
            "7/7 [==============================] - 1s 136ms/step - loss: 0.0422 - accuracy: 0.9846 - val_loss: 0.4111 - val_accuracy: 0.8937\n",
            "Epoch 19/100\n",
            "7/7 [==============================] - 1s 135ms/step - loss: 0.0253 - accuracy: 0.9917 - val_loss: 0.2996 - val_accuracy: 0.9067\n",
            "Epoch 20/100\n",
            "7/7 [==============================] - 1s 138ms/step - loss: 0.0249 - accuracy: 0.9932 - val_loss: 0.2446 - val_accuracy: 0.9327\n",
            "Epoch 21/100\n",
            "7/7 [==============================] - 1s 142ms/step - loss: 0.0224 - accuracy: 0.9932 - val_loss: 0.1463 - val_accuracy: 0.9504\n",
            "Epoch 22/100\n",
            "7/7 [==============================] - 1s 144ms/step - loss: 0.0183 - accuracy: 0.9935 - val_loss: 0.1434 - val_accuracy: 0.9492\n",
            "Epoch 23/100\n",
            "7/7 [==============================] - 1s 142ms/step - loss: 0.0163 - accuracy: 0.9965 - val_loss: 0.1343 - val_accuracy: 0.9540\n",
            "Epoch 24/100\n",
            "7/7 [==============================] - 1s 140ms/step - loss: 0.0167 - accuracy: 0.9950 - val_loss: 0.1283 - val_accuracy: 0.9563\n",
            "Epoch 25/100\n",
            "7/7 [==============================] - 1s 137ms/step - loss: 0.0156 - accuracy: 0.9959 - val_loss: 0.1307 - val_accuracy: 0.9563\n",
            "Epoch 26/100\n",
            "7/7 [==============================] - 1s 136ms/step - loss: 0.0193 - accuracy: 0.9935 - val_loss: 0.1481 - val_accuracy: 0.9540\n",
            "Epoch 27/100\n",
            "7/7 [==============================] - 1s 137ms/step - loss: 0.0138 - accuracy: 0.9970 - val_loss: 0.1313 - val_accuracy: 0.9587\n",
            "Epoch 28/100\n",
            "7/7 [==============================] - 1s 169ms/step - loss: 0.0123 - accuracy: 0.9968 - val_loss: 0.1030 - val_accuracy: 0.9551\n",
            "Epoch 29/100\n",
            "7/7 [==============================] - 1s 172ms/step - loss: 0.0131 - accuracy: 0.9953 - val_loss: 0.0747 - val_accuracy: 0.9728\n",
            "Epoch 30/100\n",
            "7/7 [==============================] - 1s 157ms/step - loss: 0.0095 - accuracy: 0.9968 - val_loss: 0.0883 - val_accuracy: 0.9752\n",
            "Epoch 31/100\n",
            "7/7 [==============================] - 1s 138ms/step - loss: 0.0083 - accuracy: 0.9979 - val_loss: 0.1168 - val_accuracy: 0.9599\n",
            "Epoch 32/100\n",
            "7/7 [==============================] - 1s 138ms/step - loss: 0.0086 - accuracy: 0.9979 - val_loss: 0.1031 - val_accuracy: 0.9658\n",
            "Epoch 33/100\n",
            "7/7 [==============================] - 1s 136ms/step - loss: 0.0081 - accuracy: 0.9973 - val_loss: 0.0762 - val_accuracy: 0.9752\n",
            "Epoch 34/100\n",
            "7/7 [==============================] - 1s 141ms/step - loss: 0.0096 - accuracy: 0.9976 - val_loss: 0.0743 - val_accuracy: 0.9764\n",
            "Epoch 35/100\n",
            "7/7 [==============================] - 1s 141ms/step - loss: 0.0060 - accuracy: 0.9988 - val_loss: 0.0603 - val_accuracy: 0.9787\n",
            "Epoch 36/100\n",
            "7/7 [==============================] - 1s 141ms/step - loss: 0.0088 - accuracy: 0.9976 - val_loss: 0.0390 - val_accuracy: 0.9858\n",
            "Epoch 37/100\n",
            "7/7 [==============================] - 1s 137ms/step - loss: 0.0083 - accuracy: 0.9979 - val_loss: 0.0404 - val_accuracy: 0.9835\n",
            "Epoch 38/100\n",
            "7/7 [==============================] - 1s 136ms/step - loss: 0.0097 - accuracy: 0.9962 - val_loss: 0.0736 - val_accuracy: 0.9799\n",
            "Epoch 39/100\n",
            "7/7 [==============================] - 1s 137ms/step - loss: 0.0082 - accuracy: 0.9979 - val_loss: 0.0861 - val_accuracy: 0.9752\n",
            "Epoch 40/100\n",
            "7/7 [==============================] - 1s 137ms/step - loss: 0.0122 - accuracy: 0.9976 - val_loss: 0.0773 - val_accuracy: 0.9799\n",
            "Epoch 41/100\n",
            "7/7 [==============================] - 1s 138ms/step - loss: 0.0064 - accuracy: 0.9985 - val_loss: 0.0794 - val_accuracy: 0.9799\n",
            "Epoch 42/100\n",
            "7/7 [==============================] - 1s 138ms/step - loss: 0.0083 - accuracy: 0.9973 - val_loss: 0.0603 - val_accuracy: 0.9847\n",
            "Epoch 43/100\n",
            "7/7 [==============================] - 1s 137ms/step - loss: 0.0064 - accuracy: 0.9985 - val_loss: 0.0583 - val_accuracy: 0.9858\n",
            "Epoch 44/100\n",
            "7/7 [==============================] - 1s 138ms/step - loss: 0.0074 - accuracy: 0.9976 - val_loss: 0.0478 - val_accuracy: 0.9882\n",
            "Epoch 45/100\n",
            "7/7 [==============================] - 1s 137ms/step - loss: 0.0060 - accuracy: 0.9979 - val_loss: 0.0508 - val_accuracy: 0.9917\n",
            "Epoch 46/100\n",
            "7/7 [==============================] - 1s 138ms/step - loss: 0.0050 - accuracy: 0.9994 - val_loss: 0.0481 - val_accuracy: 0.9894\n",
            "Epoch 47/100\n",
            "7/7 [==============================] - 1s 138ms/step - loss: 0.0052 - accuracy: 0.9988 - val_loss: 0.0366 - val_accuracy: 0.9906\n",
            "Epoch 48/100\n",
            "7/7 [==============================] - 1s 143ms/step - loss: 0.0042 - accuracy: 0.9994 - val_loss: 0.0447 - val_accuracy: 0.9870\n",
            "Epoch 49/100\n",
            "7/7 [==============================] - 1s 143ms/step - loss: 0.0043 - accuracy: 0.9985 - val_loss: 0.0358 - val_accuracy: 0.9882\n",
            "Epoch 50/100\n",
            "7/7 [==============================] - 1s 143ms/step - loss: 0.0032 - accuracy: 0.9991 - val_loss: 0.0417 - val_accuracy: 0.9906\n",
            "Epoch 51/100\n",
            "7/7 [==============================] - 1s 139ms/step - loss: 0.0049 - accuracy: 0.9991 - val_loss: 0.0397 - val_accuracy: 0.9882\n",
            "Epoch 52/100\n",
            "7/7 [==============================] - 1s 137ms/step - loss: 0.0042 - accuracy: 0.9988 - val_loss: 0.0443 - val_accuracy: 0.9858\n",
            "Epoch 53/100\n",
            "7/7 [==============================] - 1s 140ms/step - loss: 0.0040 - accuracy: 0.9991 - val_loss: 0.0439 - val_accuracy: 0.9894\n",
            "Epoch 54/100\n",
            "7/7 [==============================] - 1s 138ms/step - loss: 0.0048 - accuracy: 0.9988 - val_loss: 0.0322 - val_accuracy: 0.9929\n",
            "Epoch 55/100\n",
            "7/7 [==============================] - 1s 137ms/step - loss: 0.0096 - accuracy: 0.9970 - val_loss: 0.0464 - val_accuracy: 0.9882\n",
            "Epoch 56/100\n",
            "7/7 [==============================] - 1s 139ms/step - loss: 0.0092 - accuracy: 0.9976 - val_loss: 0.0333 - val_accuracy: 0.9894\n",
            "Epoch 57/100\n",
            "7/7 [==============================] - 1s 140ms/step - loss: 0.0092 - accuracy: 0.9982 - val_loss: 0.0339 - val_accuracy: 0.9894\n",
            "Epoch 58/100\n",
            "7/7 [==============================] - 1s 138ms/step - loss: 0.0082 - accuracy: 0.9982 - val_loss: 0.0255 - val_accuracy: 0.9941\n",
            "Epoch 59/100\n",
            "7/7 [==============================] - 1s 139ms/step - loss: 0.0073 - accuracy: 0.9982 - val_loss: 0.0244 - val_accuracy: 0.9953\n",
            "Epoch 60/100\n",
            "7/7 [==============================] - 1s 136ms/step - loss: 0.0053 - accuracy: 0.9985 - val_loss: 0.0264 - val_accuracy: 0.9929\n",
            "Epoch 61/100\n",
            "7/7 [==============================] - 1s 138ms/step - loss: 0.0047 - accuracy: 0.9982 - val_loss: 0.0346 - val_accuracy: 0.9941\n",
            "Epoch 62/100\n",
            "7/7 [==============================] - 1s 145ms/step - loss: 0.0043 - accuracy: 0.9988 - val_loss: 0.0351 - val_accuracy: 0.9941\n",
            "Epoch 63/100\n",
            "7/7 [==============================] - 1s 142ms/step - loss: 0.0041 - accuracy: 0.9985 - val_loss: 0.0292 - val_accuracy: 0.9917\n",
            "Epoch 64/100\n",
            "7/7 [==============================] - 1s 144ms/step - loss: 0.0026 - accuracy: 0.9997 - val_loss: 0.0361 - val_accuracy: 0.9917\n",
            "Epoch 65/100\n",
            "7/7 [==============================] - 1s 138ms/step - loss: 0.0035 - accuracy: 0.9988 - val_loss: 0.0466 - val_accuracy: 0.9917\n",
            "Epoch 66/100\n",
            "7/7 [==============================] - 1s 136ms/step - loss: 0.0065 - accuracy: 0.9979 - val_loss: 0.0665 - val_accuracy: 0.9917\n",
            "Epoch 67/100\n",
            "7/7 [==============================] - 1s 137ms/step - loss: 0.0029 - accuracy: 0.9994 - val_loss: 0.0557 - val_accuracy: 0.9906\n",
            "Epoch 68/100\n",
            "7/7 [==============================] - 1s 138ms/step - loss: 0.0080 - accuracy: 0.9965 - val_loss: 0.0494 - val_accuracy: 0.9917\n",
            "Epoch 69/100\n",
            "7/7 [==============================] - 1s 136ms/step - loss: 0.0079 - accuracy: 0.9976 - val_loss: 0.0891 - val_accuracy: 0.9882\n",
            "Epoch 70/100\n",
            "7/7 [==============================] - 1s 137ms/step - loss: 0.0047 - accuracy: 0.9991 - val_loss: 0.1059 - val_accuracy: 0.9847\n",
            "Epoch 71/100\n",
            "7/7 [==============================] - 1s 138ms/step - loss: 0.0026 - accuracy: 1.0000 - val_loss: 0.0335 - val_accuracy: 0.9929\n",
            "Epoch 72/100\n",
            "7/7 [==============================] - 1s 137ms/step - loss: 0.0047 - accuracy: 0.9988 - val_loss: 0.0379 - val_accuracy: 0.9941\n",
            "Epoch 73/100\n",
            "7/7 [==============================] - 1s 137ms/step - loss: 0.0072 - accuracy: 0.9985 - val_loss: 0.0324 - val_accuracy: 0.9953\n",
            "Epoch 74/100\n",
            "7/7 [==============================] - 1s 137ms/step - loss: 0.0034 - accuracy: 0.9991 - val_loss: 0.0819 - val_accuracy: 0.9847\n",
            "Epoch 75/100\n",
            "7/7 [==============================] - 1s 139ms/step - loss: 0.0102 - accuracy: 0.9962 - val_loss: 0.0726 - val_accuracy: 0.9870\n",
            "Epoch 76/100\n",
            "7/7 [==============================] - 1s 144ms/step - loss: 0.0043 - accuracy: 0.9979 - val_loss: 0.2502 - val_accuracy: 0.9622\n",
            "Epoch 77/100\n",
            "7/7 [==============================] - 1s 140ms/step - loss: 0.0051 - accuracy: 0.9985 - val_loss: 0.0511 - val_accuracy: 0.9929\n",
            "Epoch 78/100\n",
            "7/7 [==============================] - 1s 145ms/step - loss: 0.0089 - accuracy: 0.9965 - val_loss: 0.3277 - val_accuracy: 0.9351\n",
            "Epoch 79/100\n",
            "7/7 [==============================] - 1s 137ms/step - loss: 0.0048 - accuracy: 0.9982 - val_loss: 0.0304 - val_accuracy: 0.9917\n",
            "Epoch 80/100\n",
            "7/7 [==============================] - 1s 138ms/step - loss: 0.0044 - accuracy: 0.9988 - val_loss: 0.0236 - val_accuracy: 0.9941\n",
            "Epoch 81/100\n",
            "7/7 [==============================] - 1s 138ms/step - loss: 0.0044 - accuracy: 0.9988 - val_loss: 0.0306 - val_accuracy: 0.9929\n",
            "Epoch 82/100\n",
            "7/7 [==============================] - 1s 138ms/step - loss: 0.0062 - accuracy: 0.9979 - val_loss: 0.0170 - val_accuracy: 0.9976\n",
            "Epoch 83/100\n",
            "7/7 [==============================] - 1s 138ms/step - loss: 0.0070 - accuracy: 0.9979 - val_loss: 0.0265 - val_accuracy: 0.9941\n",
            "Epoch 84/100\n",
            "7/7 [==============================] - 1s 137ms/step - loss: 0.0035 - accuracy: 0.9985 - val_loss: 0.1712 - val_accuracy: 0.9599\n",
            "Epoch 85/100\n",
            "7/7 [==============================] - 1s 137ms/step - loss: 0.0071 - accuracy: 0.9976 - val_loss: 0.3341 - val_accuracy: 0.9398\n",
            "Epoch 86/100\n",
            "7/7 [==============================] - 1s 137ms/step - loss: 0.0057 - accuracy: 0.9985 - val_loss: 0.3520 - val_accuracy: 0.9351\n",
            "Epoch 87/100\n",
            "7/7 [==============================] - 1s 140ms/step - loss: 0.0043 - accuracy: 0.9982 - val_loss: 0.0912 - val_accuracy: 0.9811\n",
            "Epoch 88/100\n",
            "7/7 [==============================] - 1s 137ms/step - loss: 0.0064 - accuracy: 0.9979 - val_loss: 0.1124 - val_accuracy: 0.9835\n",
            "Epoch 89/100\n",
            "7/7 [==============================] - 1s 139ms/step - loss: 0.0070 - accuracy: 0.9985 - val_loss: 0.0878 - val_accuracy: 0.9858\n",
            "Epoch 90/100\n",
            "7/7 [==============================] - 1s 141ms/step - loss: 0.0050 - accuracy: 0.9982 - val_loss: 0.0267 - val_accuracy: 0.9941\n",
            "Epoch 91/100\n",
            "7/7 [==============================] - 1s 142ms/step - loss: 0.0076 - accuracy: 0.9976 - val_loss: 0.0191 - val_accuracy: 0.9929\n",
            "Epoch 92/100\n",
            "7/7 [==============================] - 1s 145ms/step - loss: 0.0067 - accuracy: 0.9985 - val_loss: 0.0581 - val_accuracy: 0.9847\n",
            "Epoch 93/100\n",
            "7/7 [==============================] - 1s 139ms/step - loss: 0.0068 - accuracy: 0.9979 - val_loss: 0.0404 - val_accuracy: 0.9894\n",
            "Epoch 94/100\n",
            "7/7 [==============================] - 1s 139ms/step - loss: 0.0058 - accuracy: 0.9982 - val_loss: 0.0351 - val_accuracy: 0.9941\n",
            "Epoch 95/100\n",
            "7/7 [==============================] - 1s 139ms/step - loss: 0.0033 - accuracy: 0.9997 - val_loss: 0.0413 - val_accuracy: 0.9906\n",
            "Epoch 96/100\n",
            "7/7 [==============================] - 1s 140ms/step - loss: 0.0017 - accuracy: 0.9997 - val_loss: 0.0459 - val_accuracy: 0.9917\n",
            "Epoch 97/100\n",
            "7/7 [==============================] - 1s 138ms/step - loss: 0.0020 - accuracy: 0.9997 - val_loss: 0.0453 - val_accuracy: 0.9917\n",
            "Epoch 98/100\n",
            "7/7 [==============================] - 1s 138ms/step - loss: 0.0040 - accuracy: 0.9985 - val_loss: 0.0507 - val_accuracy: 0.9929\n",
            "Epoch 99/100\n",
            "7/7 [==============================] - 1s 139ms/step - loss: 0.0018 - accuracy: 0.9991 - val_loss: 0.0585 - val_accuracy: 0.9941\n",
            "Epoch 100/100\n",
            "7/7 [==============================] - 1s 139ms/step - loss: 0.0023 - accuracy: 0.9994 - val_loss: 0.0716 - val_accuracy: 0.9929\n"
          ]
        }
      ]
    },
    {
      "cell_type": "code",
      "source": [
        "model.evaluate(X_test, y_test)"
      ],
      "metadata": {
        "colab": {
          "base_uri": "https://localhost:8080/"
        },
        "id": "rT8izIoH56Sg",
        "outputId": "048edb67-26e4-48d4-c965-226a2db2a4ba"
      },
      "execution_count": null,
      "outputs": [
        {
          "output_type": "stream",
          "name": "stdout",
          "text": [
            "34/34 [==============================] - 0s 5ms/step - loss: 0.0256 - accuracy: 0.9953\n"
          ]
        },
        {
          "output_type": "execute_result",
          "data": {
            "text/plain": [
              "[0.025563547387719154, 0.995278537273407]"
            ]
          },
          "metadata": {},
          "execution_count": 19
        }
      ]
    },
    {
      "cell_type": "code",
      "source": [
        "import matplotlib.pyplot as plt\n",
        "for k, v in history.history.items():\n",
        "    plt.plot(v, label=k)\n",
        "# plt.yticks([0.0, 0.5, 1.0])\n",
        "plt.legend()\n",
        "plt.show()"
      ],
      "metadata": {
        "colab": {
          "base_uri": "https://localhost:8080/",
          "height": 430
        },
        "id": "M8vtnnxo85Ku",
        "outputId": "0b80da83-716f-40ab-9d36-5187d7fcaea3"
      },
      "execution_count": null,
      "outputs": [
        {
          "output_type": "display_data",
          "data": {
            "text/plain": [
              "<Figure size 640x480 with 1 Axes>"
            ],
            "image/png": "[encoded data removed]"
          },
          "metadata": {}
        }
      ]
    },
    {
      "cell_type": "code",
      "source": [
        "model.save('/content/drive/MyDrive/DataCodes/Deep Learning/predtheprice_cnn.keras')"
      ],
      "metadata": {
        "id": "ejk2wnIsDclN"
      },
      "execution_count": null,
      "outputs": []
    },
    {
      "cell_type": "code",
      "source": [
        "model = models.load_model('/content/drive/MyDrive/DataCodes/Deep Learning/predtheprice_cnn.keras')"
      ],
      "metadata": {
        "id": "xEWtsZ3nFPF0"
      },
      "execution_count": null,
      "outputs": []
    },
    {
      "cell_type": "code",
      "source": [
        "model.evaluate(X_test, y_test)"
      ],
      "metadata": {
        "colab": {
          "base_uri": "https://localhost:8080/"
        },
        "id": "dMIcAhE6PhSy",
        "outputId": "3b6b3eaf-7272-4dfe-a478-53bbcef19f2b"
      },
      "execution_count": null,
      "outputs": [
        {
          "output_type": "stream",
          "name": "stdout",
          "text": [
            "34/34 [==============================] - 3s 14ms/step - loss: 0.0256 - accuracy: 0.9953\n"
          ]
        },
        {
          "output_type": "execute_result",
          "data": {
            "text/plain": [
              "[0.025563547387719154, 0.995278537273407]"
            ]
          },
          "metadata": {},
          "execution_count": 18
        }
      ]
    },
    {
      "cell_type": "code",
      "source": [
        "_, test_image = imgtoarr('/content/PHOTO_535.jpg')\n",
        "pred = model.predict(test_image)"
      ],
      "metadata": {
        "colab": {
          "base_uri": "https://localhost:8080/"
        },
        "id": "gIAFTPqvP_6y",
        "outputId": "9ff794a2-47a4-4b4e-bf57-7d5c84499461"
      },
      "execution_count": null,
      "outputs": [
        {
          "output_type": "stream",
          "name": "stdout",
          "text": [
            "1/1 [==============================] - 0s 304ms/step\n"
          ]
        }
      ]
    },
    {
      "cell_type": "code",
      "source": [
        "pred[0]"
      ],
      "metadata": {
        "colab": {
          "base_uri": "https://localhost:8080/"
        },
        "id": "rsIkBfeoTTJT",
        "outputId": "f1534d9c-8c77-4c6f-9ebc-20de072aa107"
      },
      "execution_count": null,
      "outputs": [
        {
          "output_type": "execute_result",
          "data": {
            "text/plain": [
              "array([2.0240417e-07, 8.2431582e-09, 9.9999976e-01, 4.8077908e-08],\n",
              "      dtype=float32)"
            ]
          },
          "metadata": {},
          "execution_count": 35
        }
      ]
    },
    {
      "cell_type": "code",
      "source": [
        "encoder.inverse_transform([0, 1, 2, 3])"
      ],
      "metadata": {
        "colab": {
          "base_uri": "https://localhost:8080/"
        },
        "id": "55MmQbpzbyK2",
        "outputId": "1bea6deb-cb1a-493a-f8dc-7bbf4c12ee80"
      },
      "execution_count": null,
      "outputs": [
        {
          "output_type": "execute_result",
          "data": {
            "text/plain": [
              "array(['Hatchback', 'Pickup', 'SUV', 'Seden'], dtype='<U9')"
            ]
          },
          "metadata": {},
          "execution_count": 36
        }
      ]
    }
  ]
}